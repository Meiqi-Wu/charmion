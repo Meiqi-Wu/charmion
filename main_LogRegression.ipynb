{
 "cells": [
  {
   "cell_type": "code",
   "execution_count": 17,
   "metadata": {},
   "outputs": [
    {
     "name": "stdout",
     "output_type": "stream",
     "text": [
      "The autoreload extension is already loaded. To reload it, use:\n",
      "  %reload_ext autoreload\n"
     ]
    }
   ],
   "source": [
    "import pandas as pd\n",
    "import numpy as np\n",
    "import matplotlib.pyplot as plt\n",
    "%matplotlib inline\n",
    "from sklearn.preprocessing import StandardScaler\n",
    "from sklearn.linear_model import LogisticRegression \n",
    "from sklearn.model_selection import GridSearchCV, StratifiedKFold, RandomizedSearchCV\n",
    "from sklearn.metrics import log_loss, precision_score, recall_score, f1_score\n",
    "from sklearn.pipeline import Pipeline\n",
    "from sklearn.decomposition import PCA\n",
    "\n",
    "import time\n",
    "from concurrent.futures import ThreadPoolExecutor\n",
    "from concurrent.futures import wait, ALL_COMPLETED, as_completed\n",
    "from tqdm import tqdm\n",
    "import warnings\n",
    "warnings.filterwarnings('ignore')\n",
    "%load_ext autoreload\n",
    "%autoreload 2\n",
    "\n",
    "data_dir = './DATA/lish-moa/'"
   ]
  },
  {
   "cell_type": "markdown",
   "metadata": {},
   "source": [
    "***\n",
    "# Table of Contents   \n",
    "1. Load the dataset  \n",
    "2. Preprocessing   \n",
    "3. Models : Binary Relevance (Logistic Regression)  \n",
    "***"
   ]
  },
  {
   "cell_type": "code",
   "execution_count": 7,
   "metadata": {},
   "outputs": [],
   "source": [
    "X = pd.read_csv(data_dir+'train_features.csv', index_col='sig_id')\n",
    "y = pd.read_csv(data_dir+'train_targets_scored.csv', index_col='sig_id')"
   ]
  },
  {
   "cell_type": "code",
   "execution_count": 8,
   "metadata": {},
   "outputs": [],
   "source": [
    "# One-hot encoding for cp_type and cp_dose\n",
    "X['cp_type'].replace({'trt_cp':1., 'ctl_vehicle':0.}, inplace=True)\n",
    "X['cp_dose'].replace({'D1':1., 'D2':0.}, inplace=True)\n",
    "\n",
    "# split into training set and test set\n",
    "SEED = 123\n",
    "np.random.seed(SEED)\n",
    "\n",
    "ids = X.index.values.copy()\n",
    "np.random.shuffle(ids)\n",
    "\n",
    "train_perc, test_perc = 0.85, 0.2\n",
    "train_id = ids[:round(len(ids)*train_perc)]\n",
    "test_id = ids[round(len(ids)*train_perc):]\n",
    "\n",
    "X_train = X.loc[train_id]\n",
    "X_test = X.loc[test_id]\n",
    "\n",
    "y_train = y.loc[train_id]\n",
    "y_test = y.loc[test_id]\n",
    "\n",
    "# normalize the data\n",
    "scaler = StandardScaler()\n",
    "X_train_norm = pd.DataFrame(scaler.fit_transform(X_train))\n",
    "X_train_norm.columns = X_train.columns\n",
    "X_train_norm.index = X_train.index\n",
    "\n",
    "X_test_norm = pd.DataFrame(scaler.transform(X_test))\n",
    "X_test_norm.columns = X_test.columns\n",
    "X_test_norm.index = X_test.index\n",
    "\n"
   ]
  },
  {
   "cell_type": "code",
   "execution_count": 22,
   "metadata": {},
   "outputs": [],
   "source": [
    "# \n",
    "pca = PCA(n_components=700)\n",
    "X_train_pca = pd.DataFrame(pca.fit_transform(X_train_norm))\n",
    "X_train_pca.index = X_train.index\n",
    "\n",
    "X_test_pca = pd.DataFrame(pca.transform(X_test_norm))\n",
    "X_test_pca.index = X_test.index"
   ]
  },
  {
   "cell_type": "markdown",
   "metadata": {},
   "source": [
    "## Model"
   ]
  },
  {
   "cell_type": "code",
   "execution_count": 23,
   "metadata": {
    "scrolled": true
   },
   "outputs": [
    {
     "name": "stderr",
     "output_type": "stream",
     "text": [
      "206it [4:10:29, 72.96s/it]\n"
     ]
    }
   ],
   "source": [
    "weight_ratio = 0.075\n",
    "penalty = 'l1'\n",
    "C = 1\n",
    "\n",
    "current = 0\n",
    "start = 0\n",
    "model_dic_lr = {}\n",
    "\n",
    "def calculate_model(col_name, y):\n",
    "    global model_dic_lr\n",
    "    global current\n",
    "    global start\n",
    "    \n",
    "    start += 1\n",
    "    start_time = time.process_time()\n",
    "#     print(\"Start \" + str(start) + \" \")\n",
    "    \n",
    "    X = X_train_pca.values# train\n",
    "    # class_weight for each target column\n",
    "    class_weight = {0:1, 1:min(round(len(y)/sum(y)-1)*weight_ratio, 8000)}\n",
    "    \n",
    "    \n",
    "    lr = LogisticRegression(penalty = penalty,\n",
    "                            C = C,\n",
    "                            class_weight = class_weight,\n",
    "                            n_jobs = -1,\n",
    "                            solver = 'saga',\n",
    "                            random_state = 100)\n",
    "    \n",
    "    lr.fit(X, y);\n",
    "    model_dic_lr[col_name] = lr\n",
    "    current += 1\n",
    "#     print(\"--- Completed %s, %s, %.4f mins ---\" % (current, col_name, (time.process_time() - start_time) / 60))\n",
    "    return col_name\n",
    "\n",
    "# with ThreadPoolExecutor(max_workers=4) as t:\n",
    "#     futures = []\n",
    "#     for col_name, y in y_train.iteritems():\n",
    "#         futures.append(t.submit(calculate_model, col_name, y))\n",
    "\n",
    "#     for future in as_completed(futures):\n",
    "#         print(future.result())\n",
    "    \n",
    "for col_name, y in tqdm(y_train.iteritems()):\n",
    "        calculate_model(col_name, y);"
   ]
  },
  {
   "cell_type": "code",
   "execution_count": 26,
   "metadata": {},
   "outputs": [
    {
     "name": "stderr",
     "output_type": "stream",
     "text": [
      "100%|██████████| 206/206 [01:07<00:00,  3.05it/s]\n"
     ]
    }
   ],
   "source": [
    "y_train_pred = pd.DataFrame([], columns=y_train.columns)\n",
    "y_test_pred = pd.DataFrame([], columns=y_train.columns)\n",
    "X = X_train_pca.values\n",
    "X2 = X_test_pca.values\n",
    "for col_name, lr in tqdm(model_dic_lr.items()):\n",
    "    y_train_pred[col_name] = lr.predict(X)\n",
    "    y_test_pred[col_name] = lr.predict(X2)"
   ]
  },
  {
   "cell_type": "code",
   "execution_count": 27,
   "metadata": {},
   "outputs": [
    {
     "name": "stdout",
     "output_type": "stream",
     "text": [
      "weight_ratio: 0.075  penalty: l1  C: 1  pca: 400\n",
      "Precision: \n",
      "0.6452129362792187\n",
      "Recall: \n",
      "0.703856364398491\n",
      "F1: \n",
      "0.6732600487821178\n",
      "\n",
      "Precision: \n",
      "0.29971181556195964\n",
      "Recall: \n",
      "0.28774703557312253\n",
      "F1: \n",
      "0.2936075821738253\n",
      "\n",
      "14314\n",
      "15615\n",
      "\n",
      "2530\n",
      "2429\n"
     ]
    }
   ],
   "source": [
    "# binary relavance\n",
    "print('weight_ratio:',weight_ratio, ' penalty:',penalty, ' C:', C, ' pca:', n_components)\n",
    "print('Precision: ')\n",
    "print(precision_score(y_train.values.reshape(-1, 1), y_train_pred.values.reshape(-1, 1)))\n",
    "print('Recall: ')\n",
    "print(recall_score(y_train.values.reshape(-1, 1), y_train_pred.values.reshape(-1, 1)))\n",
    "print('F1: ')\n",
    "print(f1_score(y_train.values.reshape(-1, 1), y_train_pred.values.reshape(-1, 1)))\n",
    "print()\n",
    "print('Precision: ')\n",
    "print(precision_score(y_test.values.reshape(-1, 1), y_test_pred.values.reshape(-1, 1)))\n",
    "print('Recall: ')\n",
    "print(recall_score(y_test.values.reshape(-1, 1), y_test_pred.values.reshape(-1, 1)))\n",
    "print('F1: ')\n",
    "print(f1_score(y_test.values.reshape(-1, 1), y_test_pred.values.reshape(-1, 1)))\n",
    "print()\n",
    "print(y_train.sum().sum())\n",
    "print(y_train_pred.sum().sum())\n",
    "print()\n",
    "print(y_test.sum().sum())\n",
    "print(y_test_pred.sum().sum())"
   ]
  },
  {
   "cell_type": "markdown",
   "metadata": {},
   "source": [
    "### Cross validation"
   ]
  },
  {
   "cell_type": "code",
   "execution_count": null,
   "metadata": {},
   "outputs": [],
   "source": [
    "folds = 5\n",
    "\n",
    "current = 0\n",
    "start = 0\n",
    "best_model = {}\n",
    "best_params = {}\n",
    "X = X_train_norm.values\n",
    "def search_model(i, col_name, y):\n",
    "    global best_model\n",
    "    global best_params\n",
    "    global current\n",
    "    global start\n",
    "    \n",
    "    start += 1\n",
    "    start_time = time.process_time()\n",
    "    print(\"Start \" + str(start) + \" \")\n",
    "    \n",
    "#     pca = PCA()\n",
    "    lr = LogisticRegression(n_jobs = -1,\n",
    "                            solver = 'saga',\n",
    "                            random_state = 100)\n",
    "#     pipe = Pipeline(steps=[('pca',pca), ('logistic',lr)])\n",
    "\n",
    "    ratio = round(len(y)/sum(y)-1)\n",
    "    tuned_params = {\n",
    "        'class_weight':[{0:1, 1:ratio*weight_ratio} for weight_ratio in [0.05, 0.075, 0.1]]\n",
    "        'penalty':['l1', 'l2'],\n",
    "        'C':[0.1, 0.2, 0.5, 1, 2]\n",
    "    }\n",
    "\n",
    "\n",
    "    skf = StratifiedKFold(n_splits=folds, shuffle = True, random_state = 200)\n",
    "    search = RandomizedSearchCV(estimator = lr, param_distributions=tuned_params,\n",
    "                               cv = skf.split(X, y), scoring='neg_log_loss', n_iter = 20,\n",
    "                               random_state=100)\n",
    "    search.fit(X, y)\n",
    "    best_model[col_name] = search.best_estimator_\n",
    "    best_params[col_name] = search.best_params_\n",
    "    \n",
    "    joblib.dump(best_model[col_name], f'./TrainedModels/LogRegression/lr_{i}.joblib')\n",
    "    current += 1\n",
    "    print(\"--- Completed %s, %s, %.4f mins ---\" % (current, col_name, (time.process_time() - start_time) / 60))\n",
    "    \n",
    "with ThreadPoolExecutor(max_workers=4) as t:\n",
    "    futures = []\n",
    "    for i, (col_name, y) in enumerate(y_train.iteritems()):\n",
    "        futures.append(t.submit(search_model, i, col_name, y))\n",
    "\n",
    "    for future in as_completed(futures):\n",
    "        print(future.result())"
   ]
  },
  {
   "cell_type": "code",
   "execution_count": null,
   "metadata": {},
   "outputs": [],
   "source": [
    "# inference - training\n",
    "y_train_pred = np.zeros(y_train.shape).astype('float')\n",
    "y_train_pred_proba = np.zeros(y_train.shape).astype('float')\n",
    "for i, col_name in tqdm(enumerate(y_train.columns)):\n",
    "    lr = best_model.get(col_name, None)\n",
    "    if gbc!=None:\n",
    "        y_train_pred[:,i] = lr.predict(X_train_norm)\n",
    "        y_train_pred_proba[:,i] = lr.predict_proba(X_trai_norm)[:,1]\n",
    "# overall log_loss\n",
    "print(log_loss(y_train.values.reshape(-1, 1), y_train_pred_proba.reshape(-1,1)))\n",
    "# overall precision\n",
    "print(precision_score(y_train.values.reshape(-1, 1), y_train_pred.reshape(-1,1)))\n",
    "# overall precision\n",
    "print(recall_score(y_train.values.reshape(-1, 1), y_train_pred.reshape(-1,1)))"
   ]
  },
  {
   "cell_type": "code",
   "execution_count": null,
   "metadata": {},
   "outputs": [],
   "source": [
    "lr# inference - test\n",
    "y_pred = np.zeros(y_test.shape).astype('float')\n",
    "y_pred_proba = np.zeros(y_test.shape).astype('float')\n",
    "for i, col_name in tqdm(enumerate(y_test.columns)):\n",
    "    lr = best_model.get(col_name, None)\n",
    "    if rfc!=None:\n",
    "        y_pred[:,i] = lr.predict(X_test_norm)\n",
    "        y_pred_proba[:,i] = lr.predict_proba(X_test_norm)[:,1]\n",
    "# overall log_loss\n",
    "print(log_loss(y_test.values.reshape(-1, 1), y_pred_proba.reshape(-1,1)))\n",
    "# overall precision\n",
    "print(precision_score(y_test.values.reshape(-1, 1), y_pred.reshape(-1,1)))\n",
    "# overall precision\n",
    "print(recall_score(y_test.values.reshape(-1, 1), y_pred.reshape(-1,1)))"
   ]
  }
 ],
 "metadata": {
  "kernelspec": {
   "display_name": "Python 3",
   "language": "python",
   "name": "python3"
  },
  "language_info": {
   "codemirror_mode": {
    "name": "ipython",
    "version": 3
   },
   "file_extension": ".py",
   "mimetype": "text/x-python",
   "name": "python",
   "nbconvert_exporter": "python",
   "pygments_lexer": "ipython3",
   "version": "3.8.3"
  }
 },
 "nbformat": 4,
 "nbformat_minor": 4
}
