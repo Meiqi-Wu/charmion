{
 "cells": [
  {
   "cell_type": "markdown",
   "metadata": {},
   "source": [
    "Check the version of python and packages:"
   ]
  },
  {
   "cell_type": "code",
   "execution_count": 2,
   "metadata": {},
   "outputs": [
    {
     "name": "stdout",
     "output_type": "stream",
     "text": [
      "Python 3.7.3\r\n"
     ]
    }
   ],
   "source": [
    "!python --version"
   ]
  },
  {
   "cell_type": "code",
   "execution_count": 3,
   "metadata": {},
   "outputs": [],
   "source": [
    "# !pip install scikit-multilearn"
   ]
  },
  {
   "cell_type": "code",
   "execution_count": 4,
   "metadata": {},
   "outputs": [],
   "source": [
    "# !pip install -U imbalanced-learn"
   ]
  },
  {
   "cell_type": "code",
   "execution_count": 100,
   "metadata": {},
   "outputs": [
    {
     "name": "stdout",
     "output_type": "stream",
     "text": [
      "The autoreload extension is already loaded. To reload it, use:\n",
      "  %reload_ext autoreload\n"
     ]
    }
   ],
   "source": [
    "import pandas as pd\n",
    "import numpy as np\n",
    "import matplotlib.pyplot as plt\n",
    "%matplotlib inline\n",
    "from sklearn.preprocessing import StandardScaler\n",
    "from sklearn.model_selection import GridSearchCV\n",
    "from sklearn.ensemble import RandomForestClassifier\n",
    "from skmultilearn.problem_transform import ClassifierChain\n",
    "from imblearn.ensemble import BalancedRandomForestClassifier\n",
    "from sklearn.linear_model import LogisticRegression\n",
    "\n",
    "import torch\n",
    "import torch.nn as nn\n",
    "import torch.nn.functional as F\n",
    "import torch.optim as optim\n",
    "\n",
    "import warnings\n",
    "warnings.filterwarnings('ignore')\n",
    "\n",
    "%load_ext autoreload\n",
    "%autoreload 2"
   ]
  },
  {
   "cell_type": "code",
   "execution_count": 6,
   "metadata": {},
   "outputs": [],
   "source": [
    "from model import DenseNet, Model\n",
    "from evaluate import accuracy_score, precision_score, recall_score, f1_score"
   ]
  },
  {
   "cell_type": "code",
   "execution_count": 7,
   "metadata": {},
   "outputs": [
    {
     "data": {
      "text/plain": [
       "<torch._C.Generator at 0x1a2836c5b0>"
      ]
     },
     "execution_count": 7,
     "metadata": {},
     "output_type": "execute_result"
    }
   ],
   "source": [
    "SEED = 123\n",
    "np.random.seed(SEED)\n",
    "torch.manual_seed(SEED)"
   ]
  },
  {
   "cell_type": "code",
   "execution_count": 8,
   "metadata": {},
   "outputs": [],
   "source": [
    "data_dir = './DATA/lish-moa/'"
   ]
  },
  {
   "cell_type": "markdown",
   "metadata": {},
   "source": [
    "## Load the dataset"
   ]
  },
  {
   "cell_type": "code",
   "execution_count": 9,
   "metadata": {},
   "outputs": [],
   "source": [
    "X = pd.read_csv(data_dir+'train_features.csv', index_col='sig_id')\n",
    "y = pd.read_csv(data_dir+'train_targets_scored.csv', index_col='sig_id')"
   ]
  },
  {
   "cell_type": "code",
   "execution_count": 10,
   "metadata": {},
   "outputs": [
    {
     "data": {
      "text/plain": [
       "1    12532\n",
       "0     9367\n",
       "2     1538\n",
       "3      303\n",
       "4       55\n",
       "5       13\n",
       "7        6\n",
       "dtype: int64"
      ]
     },
     "execution_count": 10,
     "metadata": {},
     "output_type": "execute_result"
    }
   ],
   "source": [
    "y.sum(axis=1).value_counts()"
   ]
  },
  {
   "cell_type": "code",
   "execution_count": 11,
   "metadata": {},
   "outputs": [
    {
     "data": {
      "text/plain": [
       "0.0034335680814337"
      ]
     },
     "execution_count": 11,
     "metadata": {},
     "output_type": "execute_result"
    }
   ],
   "source": [
    "y.sum().sum()/(y.shape[0]*y.shape[1])"
   ]
  },
  {
   "cell_type": "code",
   "execution_count": 12,
   "metadata": {},
   "outputs": [
    {
     "name": "stdout",
     "output_type": "stream",
     "text": [
      "(23814, 875)\n",
      "(23814, 206)\n"
     ]
    }
   ],
   "source": [
    "print(X.shape)\n",
    "print(y.shape)"
   ]
  },
  {
   "cell_type": "code",
   "execution_count": 13,
   "metadata": {},
   "outputs": [
    {
     "name": "stdout",
     "output_type": "stream",
     "text": [
      "0\n",
      "0\n"
     ]
    }
   ],
   "source": [
    "# Number of NA in X, and y\n",
    "print(X.isnull().sum().sum())\n",
    "print(y.isnull().sum().sum())"
   ]
  },
  {
   "cell_type": "code",
   "execution_count": 14,
   "metadata": {},
   "outputs": [
    {
     "data": {
      "image/png": "[encoded data removed]",
      "text/plain": [
       "<Figure size 432x288 with 1 Axes>"
      ]
     },
     "metadata": {
      "needs_background": "light"
     },
     "output_type": "display_data"
    }
   ],
   "source": [
    "# percentage of 1's in each column of y\n",
    "one_perc = y.apply(lambda x: x.sum()/len(y))\n",
    "plt.figure()\n",
    "plt.hist(one_perc, bins=100);"
   ]
  },
  {
   "cell_type": "code",
   "execution_count": 15,
   "metadata": {},
   "outputs": [
    {
     "data": {
      "text/plain": [
       "['cp_type', 'cp_dose']"
      ]
     },
     "execution_count": 15,
     "metadata": {},
     "output_type": "execute_result"
    }
   ],
   "source": [
    "# categorical columns\n",
    "col_cat = [col for col in X.columns if X[col].dtype == 'object']\n",
    "col_cat"
   ]
  },
  {
   "cell_type": "code",
   "execution_count": 16,
   "metadata": {},
   "outputs": [
    {
     "data": {
      "text/plain": [
       "trt_cp         21948\n",
       "ctl_vehicle     1866\n",
       "Name: cp_type, dtype: int64"
      ]
     },
     "execution_count": 16,
     "metadata": {},
     "output_type": "execute_result"
    }
   ],
   "source": [
    "X.cp_type.value_counts()"
   ]
  },
  {
   "cell_type": "code",
   "execution_count": 17,
   "metadata": {},
   "outputs": [
    {
     "data": {
      "text/plain": [
       "D1    12147\n",
       "D2    11667\n",
       "Name: cp_dose, dtype: int64"
      ]
     },
     "execution_count": 17,
     "metadata": {},
     "output_type": "execute_result"
    }
   ],
   "source": [
    "X.cp_dose.value_counts()"
   ]
  },
  {
   "cell_type": "markdown",
   "metadata": {},
   "source": [
    "## Preprocessing"
   ]
  },
  {
   "cell_type": "code",
   "execution_count": 18,
   "metadata": {},
   "outputs": [],
   "source": [
    "# One-hot encoding for cp_type and cp_dose\n",
    "X['cp_type'].replace({'trt_cp':1., 'ctl_vehicle':0.}, inplace=True)\n",
    "X['cp_dose'].replace({'D1':1., 'D2':0.}, inplace=True)"
   ]
  },
  {
   "cell_type": "code",
   "execution_count": 19,
   "metadata": {},
   "outputs": [],
   "source": [
    "# split into training set and test set\n",
    "ids = X.index.values.copy()\n",
    "np.random.shuffle(ids)\n",
    "\n",
    "train_perc, test_perc = 0.8, 0.2\n",
    "train_id = ids[:round(len(ids)*train_perc)]\n",
    "test_id = ids[round(len(ids)*train_perc)+1:]\n",
    "\n",
    "X_train = X.loc[train_id]\n",
    "X_test = X.loc[test_id]\n",
    "\n",
    "y_train = y.loc[train_id]\n",
    "y_test = y.loc[test_id]"
   ]
  },
  {
   "cell_type": "code",
   "execution_count": 20,
   "metadata": {},
   "outputs": [],
   "source": [
    "# normalize the data\n",
    "scaler = StandardScaler()\n",
    "X_train_norm = pd.DataFrame(scaler.fit_transform(X_train))\n",
    "X_train_norm.columns = X_train.columns\n",
    "X_train_norm.index = X_train.index\n",
    "\n",
    "X_test_norm = pd.DataFrame(scaler.transform(X_test))\n",
    "X_test_norm.columns = X_test.columns\n",
    "X_test_norm.index = X_test.index"
   ]
  },
  {
   "cell_type": "code",
   "execution_count": 21,
   "metadata": {},
   "outputs": [
    {
     "data": {
      "text/html": [
       "<div>\n",
       "<style scoped>\n",
       "    .dataframe tbody tr th:only-of-type {\n",
       "        vertical-align: middle;\n",
       "    }\n",
       "\n",
       "    .dataframe tbody tr th {\n",
       "        vertical-align: top;\n",
       "    }\n",
       "\n",
       "    .dataframe thead th {\n",
       "        text-align: right;\n",
       "    }\n",
       "</style>\n",
       "<table border=\"1\" class=\"dataframe\">\n",
       "  <thead>\n",
       "    <tr style=\"text-align: right;\">\n",
       "      <th></th>\n",
       "      <th>cp_type</th>\n",
       "      <th>cp_time</th>\n",
       "      <th>cp_dose</th>\n",
       "      <th>g-0</th>\n",
       "      <th>g-1</th>\n",
       "      <th>g-2</th>\n",
       "      <th>g-3</th>\n",
       "      <th>g-4</th>\n",
       "      <th>g-5</th>\n",
       "      <th>g-6</th>\n",
       "      <th>...</th>\n",
       "      <th>c-90</th>\n",
       "      <th>c-91</th>\n",
       "      <th>c-92</th>\n",
       "      <th>c-93</th>\n",
       "      <th>c-94</th>\n",
       "      <th>c-95</th>\n",
       "      <th>c-96</th>\n",
       "      <th>c-97</th>\n",
       "      <th>c-98</th>\n",
       "      <th>c-99</th>\n",
       "    </tr>\n",
       "    <tr>\n",
       "      <th>sig_id</th>\n",
       "      <th></th>\n",
       "      <th></th>\n",
       "      <th></th>\n",
       "      <th></th>\n",
       "      <th></th>\n",
       "      <th></th>\n",
       "      <th></th>\n",
       "      <th></th>\n",
       "      <th></th>\n",
       "      <th></th>\n",
       "      <th></th>\n",
       "      <th></th>\n",
       "      <th></th>\n",
       "      <th></th>\n",
       "      <th></th>\n",
       "      <th></th>\n",
       "      <th></th>\n",
       "      <th></th>\n",
       "      <th></th>\n",
       "      <th></th>\n",
       "      <th></th>\n",
       "    </tr>\n",
       "  </thead>\n",
       "  <tbody>\n",
       "    <tr>\n",
       "      <th>id_eed4f5eb5</th>\n",
       "      <td>-3.451946</td>\n",
       "      <td>-1.236669</td>\n",
       "      <td>0.980918</td>\n",
       "      <td>-0.456171</td>\n",
       "      <td>0.005873</td>\n",
       "      <td>0.427600</td>\n",
       "      <td>-1.182563</td>\n",
       "      <td>-0.524187</td>\n",
       "      <td>-0.299103</td>\n",
       "      <td>0.945605</td>\n",
       "      <td>...</td>\n",
       "      <td>0.375991</td>\n",
       "      <td>0.037446</td>\n",
       "      <td>-0.282627</td>\n",
       "      <td>0.153964</td>\n",
       "      <td>0.308799</td>\n",
       "      <td>1.054493</td>\n",
       "      <td>0.141999</td>\n",
       "      <td>0.306620</td>\n",
       "      <td>0.225334</td>\n",
       "      <td>-0.099044</td>\n",
       "    </tr>\n",
       "    <tr>\n",
       "      <th>id_528f47dac</th>\n",
       "      <td>0.289692</td>\n",
       "      <td>0.000195</td>\n",
       "      <td>0.980918</td>\n",
       "      <td>0.450424</td>\n",
       "      <td>-0.319481</td>\n",
       "      <td>-1.396536</td>\n",
       "      <td>-0.005718</td>\n",
       "      <td>-0.247520</td>\n",
       "      <td>3.341033</td>\n",
       "      <td>-0.484051</td>\n",
       "      <td>...</td>\n",
       "      <td>0.721413</td>\n",
       "      <td>0.594174</td>\n",
       "      <td>0.488883</td>\n",
       "      <td>0.341703</td>\n",
       "      <td>0.586436</td>\n",
       "      <td>-0.182267</td>\n",
       "      <td>0.546444</td>\n",
       "      <td>0.400113</td>\n",
       "      <td>0.337062</td>\n",
       "      <td>-0.275528</td>\n",
       "    </tr>\n",
       "    <tr>\n",
       "      <th>id_f706afa88</th>\n",
       "      <td>0.289692</td>\n",
       "      <td>0.000195</td>\n",
       "      <td>0.980918</td>\n",
       "      <td>-1.099553</td>\n",
       "      <td>-0.396522</td>\n",
       "      <td>0.778984</td>\n",
       "      <td>0.962121</td>\n",
       "      <td>-1.001836</td>\n",
       "      <td>-0.126575</td>\n",
       "      <td>-0.266299</td>\n",
       "      <td>...</td>\n",
       "      <td>-0.087900</td>\n",
       "      <td>0.444295</td>\n",
       "      <td>0.397154</td>\n",
       "      <td>0.733476</td>\n",
       "      <td>0.023046</td>\n",
       "      <td>-0.501745</td>\n",
       "      <td>0.458904</td>\n",
       "      <td>0.297883</td>\n",
       "      <td>-0.976632</td>\n",
       "      <td>-0.523066</td>\n",
       "    </tr>\n",
       "    <tr>\n",
       "      <th>id_1bb6de988</th>\n",
       "      <td>0.289692</td>\n",
       "      <td>-1.236669</td>\n",
       "      <td>0.980918</td>\n",
       "      <td>0.036681</td>\n",
       "      <td>0.470222</td>\n",
       "      <td>-0.214747</td>\n",
       "      <td>-0.247864</td>\n",
       "      <td>-0.645399</td>\n",
       "      <td>0.058925</td>\n",
       "      <td>0.002735</td>\n",
       "      <td>...</td>\n",
       "      <td>0.867269</td>\n",
       "      <td>0.825751</td>\n",
       "      <td>0.473814</td>\n",
       "      <td>0.355106</td>\n",
       "      <td>0.348301</td>\n",
       "      <td>0.526270</td>\n",
       "      <td>0.141260</td>\n",
       "      <td>0.030956</td>\n",
       "      <td>0.190197</td>\n",
       "      <td>0.451120</td>\n",
       "    </tr>\n",
       "    <tr>\n",
       "      <th>id_a1c138776</th>\n",
       "      <td>0.289692</td>\n",
       "      <td>-1.236669</td>\n",
       "      <td>0.980918</td>\n",
       "      <td>2.208361</td>\n",
       "      <td>1.993362</td>\n",
       "      <td>-0.351596</td>\n",
       "      <td>2.984833</td>\n",
       "      <td>0.780252</td>\n",
       "      <td>-0.034757</td>\n",
       "      <td>0.413108</td>\n",
       "      <td>...</td>\n",
       "      <td>-0.524355</td>\n",
       "      <td>0.430530</td>\n",
       "      <td>0.463650</td>\n",
       "      <td>0.653685</td>\n",
       "      <td>-0.315908</td>\n",
       "      <td>-0.252784</td>\n",
       "      <td>0.071061</td>\n",
       "      <td>0.000940</td>\n",
       "      <td>0.341108</td>\n",
       "      <td>0.516565</td>\n",
       "    </tr>\n",
       "  </tbody>\n",
       "</table>\n",
       "<p>5 rows × 875 columns</p>\n",
       "</div>"
      ],
      "text/plain": [
       "               cp_type   cp_time   cp_dose       g-0       g-1       g-2  \\\n",
       "sig_id                                                                     \n",
       "id_eed4f5eb5 -3.451946 -1.236669  0.980918 -0.456171  0.005873  0.427600   \n",
       "id_528f47dac  0.289692  0.000195  0.980918  0.450424 -0.319481 -1.396536   \n",
       "id_f706afa88  0.289692  0.000195  0.980918 -1.099553 -0.396522  0.778984   \n",
       "id_1bb6de988  0.289692 -1.236669  0.980918  0.036681  0.470222 -0.214747   \n",
       "id_a1c138776  0.289692 -1.236669  0.980918  2.208361  1.993362 -0.351596   \n",
       "\n",
       "                   g-3       g-4       g-5       g-6  ...      c-90      c-91  \\\n",
       "sig_id                                                ...                       \n",
       "id_eed4f5eb5 -1.182563 -0.524187 -0.299103  0.945605  ...  0.375991  0.037446   \n",
       "id_528f47dac -0.005718 -0.247520  3.341033 -0.484051  ...  0.721413  0.594174   \n",
       "id_f706afa88  0.962121 -1.001836 -0.126575 -0.266299  ... -0.087900  0.444295   \n",
       "id_1bb6de988 -0.247864 -0.645399  0.058925  0.002735  ...  0.867269  0.825751   \n",
       "id_a1c138776  2.984833  0.780252 -0.034757  0.413108  ... -0.524355  0.430530   \n",
       "\n",
       "                  c-92      c-93      c-94      c-95      c-96      c-97  \\\n",
       "sig_id                                                                     \n",
       "id_eed4f5eb5 -0.282627  0.153964  0.308799  1.054493  0.141999  0.306620   \n",
       "id_528f47dac  0.488883  0.341703  0.586436 -0.182267  0.546444  0.400113   \n",
       "id_f706afa88  0.397154  0.733476  0.023046 -0.501745  0.458904  0.297883   \n",
       "id_1bb6de988  0.473814  0.355106  0.348301  0.526270  0.141260  0.030956   \n",
       "id_a1c138776  0.463650  0.653685 -0.315908 -0.252784  0.071061  0.000940   \n",
       "\n",
       "                  c-98      c-99  \n",
       "sig_id                            \n",
       "id_eed4f5eb5  0.225334 -0.099044  \n",
       "id_528f47dac  0.337062 -0.275528  \n",
       "id_f706afa88 -0.976632 -0.523066  \n",
       "id_1bb6de988  0.190197  0.451120  \n",
       "id_a1c138776  0.341108  0.516565  \n",
       "\n",
       "[5 rows x 875 columns]"
      ]
     },
     "execution_count": 21,
     "metadata": {},
     "output_type": "execute_result"
    }
   ],
   "source": [
    "X_train_norm.head()"
   ]
  },
  {
   "cell_type": "markdown",
   "metadata": {},
   "source": [
    "## Models  \n",
    "\n",
    "### Model 1: Neural Network"
   ]
  },
  {
   "cell_type": "code",
   "execution_count": 31,
   "metadata": {
    "scrolled": true
   },
   "outputs": [
    {
     "name": "stdout",
     "output_type": "stream",
     "text": [
      "Epoch [1, 0] : loss 1.047478199005127\n",
      "Epoch [1, 3840] : loss 1.05042564868927\n",
      "Epoch [1, 7680] : loss 1.0482022762298584\n",
      "Epoch [1, 11520] : loss 1.057258129119873\n",
      "Epoch [1, 15360] : loss 1.056621789932251\n",
      "Epoch [2, 0] : loss 1.0446748733520508\n",
      "Epoch [2, 3840] : loss 1.0472965240478516\n",
      "Epoch [2, 7680] : loss 1.0443134307861328\n",
      "Epoch [2, 11520] : loss 1.0522059202194214\n",
      "Epoch [2, 15360] : loss 1.049384593963623\n",
      "Epoch [3, 0] : loss 1.031517505645752\n",
      "Epoch [3, 3840] : loss 1.030834436416626\n",
      "Epoch [3, 7680] : loss 1.0171416997909546\n",
      "Epoch [3, 11520] : loss 1.0096237659454346\n",
      "Epoch [3, 15360] : loss 0.9825803637504578\n",
      "Epoch [4, 0] : loss 0.9295281767845154\n",
      "Epoch [4, 3840] : loss 0.8986634016036987\n",
      "Epoch [4, 7680] : loss 0.858842134475708\n",
      "Epoch [4, 11520] : loss 0.8441187739372253\n",
      "Epoch [4, 15360] : loss 0.8327736258506775\n",
      "Epoch [5, 0] : loss 0.8097099661827087\n",
      "Epoch [5, 3840] : loss 0.8154553174972534\n",
      "Epoch [5, 7680] : loss 0.8103313446044922\n",
      "Epoch [5, 11520] : loss 0.8212631940841675\n",
      "Epoch [5, 15360] : loss 0.8201394081115723\n",
      "Epoch [6, 0] : loss 0.8013418912887573\n",
      "Epoch [6, 3840] : loss 0.8102124929428101\n",
      "Epoch [6, 7680] : loss 0.8063452243804932\n",
      "Epoch [6, 11520] : loss 0.8192839622497559\n",
      "Epoch [6, 15360] : loss 0.8184539079666138\n",
      "Epoch [7, 0] : loss 0.7999599575996399\n",
      "Epoch [7, 3840] : loss 0.8091217875480652\n",
      "Epoch [7, 7680] : loss 0.8053784966468811\n",
      "Epoch [7, 11520] : loss 0.8187475204467773\n",
      "Epoch [7, 15360] : loss 0.8179959058761597\n",
      "Epoch [8, 0] : loss 0.7992702126502991\n",
      "Epoch [8, 3840] : loss 0.8086432218551636\n",
      "Epoch [8, 7680] : loss 0.8047776222229004\n",
      "Epoch [8, 11520] : loss 0.8185872435569763\n",
      "Epoch [8, 15360] : loss 0.8176785111427307\n",
      "Epoch [9, 0] : loss 0.7989540696144104\n",
      "Epoch [9, 3840] : loss 0.8083202242851257\n",
      "Epoch [9, 7680] : loss 0.8044001460075378\n",
      "Epoch [9, 11520] : loss 0.8180893063545227\n",
      "Epoch [9, 15360] : loss 0.8173395395278931\n",
      "Epoch [10, 0] : loss 0.7985403537750244\n",
      "Epoch [10, 3840] : loss 0.8079520463943481\n",
      "Epoch [10, 7680] : loss 0.8040676712989807\n",
      "Epoch [10, 11520] : loss 0.8177434206008911\n",
      "Epoch [10, 15360] : loss 0.8170088529586792\n"
     ]
    }
   ],
   "source": [
    "params_net = {'input_size': X_train_norm.shape[1],\n",
    "             'hidden_size': [512, 512, 256, 128 ,256, 512, 1024],\n",
    "             'output_size': y_train.shape[1],\n",
    "             'dropout': 0.01}\n",
    "\n",
    "params_fit = {'X':X_train_norm,\n",
    "             'y': y_train,\n",
    "             'epoch': 10,\n",
    "             'lr': 5e-6,\n",
    "             'batch_size':128,\n",
    "             'L2': 0,\n",
    "             'pos_weight':50,\n",
    "             'verbose':True}\n",
    "\n",
    "net = DenseNet(**params_net)\n",
    "model = Model(net)\n",
    "model.fit(**params_fit)"
   ]
  },
  {
   "cell_type": "code",
   "execution_count": 32,
   "metadata": {},
   "outputs": [
    {
     "name": "stdout",
     "output_type": "stream",
     "text": [
      "Precision: \n",
      "0.05716523101018011\n",
      "Recall: \n",
      "0.08687244328746746\n",
      "F1: \n",
      "0.06895533843020338\n"
     ]
    }
   ],
   "source": [
    "y_train_predict = model.predict(X_train_norm, 0.45)\n",
    "\n",
    "# print('Accuracy: ')\n",
    "# print(accuracy_score(y_train, y_train_predict))\n",
    "print('Precision: ')\n",
    "print(precision_score(y_train, y_train_predict))\n",
    "print('Recall: ')\n",
    "print(recall_score(y_train, y_train_predict))\n",
    "print('F1: ')\n",
    "print(f1_score(y_train, y_train_predict))\n",
    "\n",
    "print()\n",
    "y_test_predict = model.predict(X_test_norm, 0.5)\n",
    "\n",
    "# print('Accuracy: ')\n",
    "# print(accuracy_score(y_test, y_test_predict))\n",
    "print('Precision: ')\n",
    "print(precision_score(y_test, y_test_predict))\n",
    "print('Recall: ')\n",
    "print(recall_score(y_test, y_test_predict))\n",
    "print('F1: ')\n",
    "print(f1_score(y_test, y_test_predict))"
   ]
  },
  {
   "cell_type": "code",
   "execution_count": 34,
   "metadata": {},
   "outputs": [
    {
     "name": "stdout",
     "output_type": "stream",
     "text": [
      "13445\n",
      "20432\n"
     ]
    }
   ],
   "source": [
    "print(y_train.sum().sum())\n",
    "print(y_train_predict.sum())\n",
    "print()\n",
    "print(y_test.sum().sum())\n",
    "print(y_test_predict.sum())"
   ]
  },
  {
   "cell_type": "code",
   "execution_count": null,
   "metadata": {},
   "outputs": [],
   "source": [
    "# todo: grid search for pos_weight\n",
    "\n",
    "\n"
   ]
  },
  {
   "cell_type": "markdown",
   "metadata": {},
   "source": [
    "### Model 2: Random Forest"
   ]
  },
  {
   "cell_type": "code",
   "execution_count": 84,
   "metadata": {},
   "outputs": [],
   "source": [
    "# todo: define class-weight based \n",
    "weight_ratio = 50\n",
    "class_weight = [{0:1, 1:round(len(value)/sum(value)-1)* weight_ratio} for _, value in y_train.iteritems()]\n",
    "\n",
    "# class_weight = [{0:1, 1:50}]*y_train.shape[1]\n",
    "\n",
    "rfc = RandomForestClassifier(n_estimators = 100,\n",
    "                             max_depth = 20,\n",
    "                             class_weight = 'balanced_subsample',\n",
    "                             random_state=100)\n",
    "rfc.fit(X_train, y_train);"
   ]
  },
  {
   "cell_type": "code",
   "execution_count": 85,
   "metadata": {},
   "outputs": [
    {
     "name": "stdout",
     "output_type": "stream",
     "text": [
      "Precision: \n",
      "1.0\n",
      "Recall: \n",
      "0.2786165860914838\n",
      "F1: \n",
      "0.4358094351695655\n",
      "\n",
      "Precision: \n",
      "0.9689265536723164\n",
      "Recall: \n",
      "0.1009417304296645\n",
      "F1: \n",
      "0.1828358208955224\n"
     ]
    }
   ],
   "source": [
    "y_train_predict = rfc.predict(X_train)\n",
    "\n",
    "# print('Accuracy: ')\n",
    "# print(accuracy_score(y_train, y_train_predict))\n",
    "print('Precision: ')\n",
    "print(precision_score(y_train, y_train_predict))\n",
    "print('Recall: ')\n",
    "print(recall_score(y_train, y_train_predict))\n",
    "print('F1: ')\n",
    "print(f1_score(y_train, y_train_predict))\n",
    "\n",
    "print()\n",
    "\n",
    "y_test_predict = rfc.predict(X_test)\n",
    "\n",
    "# print('Accuracy: ')\n",
    "# print(accuracy_score(y_test, y_test_predict))\n",
    "print('Precision: ')\n",
    "print(precision_score(y_test, y_test_predict))\n",
    "print('Recall: ')\n",
    "print(recall_score(y_test, y_test_predict))\n",
    "print('F1: ')\n",
    "print(f1_score(y_test, y_test_predict))"
   ]
  },
  {
   "cell_type": "code",
   "execution_count": 86,
   "metadata": {},
   "outputs": [
    {
     "name": "stdout",
     "output_type": "stream",
     "text": [
      "13445\n",
      "3746\n",
      "\n",
      "3398\n",
      "354\n"
     ]
    }
   ],
   "source": [
    "print(y_train.sum().sum())\n",
    "print(y_train_predict.sum())\n",
    "print()\n",
    "print(y_test.sum().sum())\n",
    "print(y_test_predict.sum())"
   ]
  },
  {
   "cell_type": "code",
   "execution_count": null,
   "metadata": {},
   "outputs": [],
   "source": [
    "# # Grid Search \n",
    "# parameters = {'n_estimators': [80, 100, 120],\n",
    "#              'max_depth': [15, 20, 25],\n",
    "#              'class_weight': [[{0:1, 1:100}]*y_train.shape[1], [{0:1, 1:150}]*y_train.shape[1]]}\n",
    "\n",
    "# rfc = RandomForestClassifier(random_state=100)\n",
    "# clf = GridSearchCV(rfc, parameters, scoring=make_scorer(f1_score, greater_is_better=True))\n",
    "# clf.fit(X_train, y_train)\n",
    "\n",
    "# print('# Tuning hyper-parameter for f1')\n",
    "# print()\n",
    "# print('Best parameters set found on validation set:')\n",
    "# print(clf.best_params_)\n",
    "# print()\n",
    "# print('Grid scores on validation set: ')\n",
    "# means = clf.cv_results_['mean_test_socre']\n",
    "# stds = clf.cv_results_['std_test_score']\n",
    "# for mean, std, params in zip(means, stds, clf.cv_results_['params']):\n",
    "#     print(\"{} ({}) for {}\".format(mean, std*2, params))"
   ]
  },
  {
   "cell_type": "markdown",
   "metadata": {},
   "source": [
    "### Model 3 : Classifier Chains   \n",
    "#### Model 3.1 : Random Forest"
   ]
  },
  {
   "cell_type": "code",
   "execution_count": 99,
   "metadata": {},
   "outputs": [
    {
     "data": {
      "text/plain": [
       "ClassifierChain(classifier=RandomForestClassifier(class_weight={0: 1, 1: 30},\n",
       "                                                  max_depth=10,\n",
       "                                                  random_state=100),\n",
       "                require_dense=[True, True])"
      ]
     },
     "execution_count": 99,
     "metadata": {},
     "output_type": "execute_result"
    }
   ],
   "source": [
    "# rfc_1 = BalancedRandomForestClassifier(n_estimators=50,\n",
    "#                                      max_depth = 20, \n",
    "#                                      random_state=100)\n",
    "\n",
    "rfc_1 = RandomForestClassifier(n_estimators = 100,\n",
    "                               max_depth = 10,\n",
    "                               class_weight = {0:1, 1:30},\n",
    "                               n_jobs = -1\n",
    "                               random_state = 100)\n",
    "\n",
    "clf_chain = ClassifierChain(rfc_1)\n",
    "clf_chain.fit(X_train, y_train)"
   ]
  },
  {
   "cell_type": "code",
   "execution_count": 101,
   "metadata": {},
   "outputs": [
    {
     "name": "stdout",
     "output_type": "stream",
     "text": [
      "Precision: \n",
      "0.9849579831932773\n",
      "Recall: \n",
      "0.8717738936407586\n",
      "F1: \n",
      "0.9249161570329454\n",
      "\n",
      "Precision: \n",
      "0.9055727554179567\n",
      "Recall: \n",
      "0.17216009417304295\n",
      "F1: \n",
      "0.28931750741839757\n"
     ]
    }
   ],
   "source": [
    "y_train_predict = clf_chain.predict(X_train).toarray()\n",
    "\n",
    "# print('Accuracy: ')\n",
    "# print(accuracy_score(y_train, y_train_predict))\n",
    "print('Precision: ')\n",
    "print(precision_score(y_train, y_train_predict))\n",
    "print('Recall: ')\n",
    "print(recall_score(y_train, y_train_predict))\n",
    "print('F1: ')\n",
    "print(f1_score(y_train, y_train_predict))\n",
    "print()\n",
    "\n",
    "y_test_predict = clf_chain.predict(X_test).toarray()\n",
    "# print('Accuracy: ')\n",
    "# print(accuracy_score(y_test, y_test_predict))\n",
    "print('Precision: ')\n",
    "print(precision_score(y_test, y_test_predict))\n",
    "print('Recall: ')\n",
    "print(recall_score(y_test, y_test_predict))\n",
    "print('F1: ')\n",
    "print(f1_score(y_test, y_test_predict))"
   ]
  },
  {
   "cell_type": "code",
   "execution_count": 102,
   "metadata": {},
   "outputs": [
    {
     "name": "stdout",
     "output_type": "stream",
     "text": [
      "13445\n",
      "11900.0\n",
      "\n",
      "3398\n",
      "646.0\n"
     ]
    }
   ],
   "source": [
    "print(y_train.sum().sum())\n",
    "print(y_train_predict.sum())\n",
    "print()\n",
    "print(y_test.sum().sum())\n",
    "print(y_test_predict.sum())"
   ]
  },
  {
   "cell_type": "markdown",
   "metadata": {},
   "source": [
    "#### Model 3.2 : Logistic Regression"
   ]
  },
  {
   "cell_type": "code",
   "execution_count": null,
   "metadata": {},
   "outputs": [],
   "source": [
    "lr = LogisticRegression(penalty = 'l2',\n",
    "                       C = 1.0,\n",
    "                       class_weight = {0:1, 1:30},\n",
    "                       random_state = 100)\n",
    "\n",
    "clf_chain_lr = ClassifierChain(lr)\n",
    "clf_chain_lr.fit(X_train, y_train)"
   ]
  },
  {
   "cell_type": "code",
   "execution_count": null,
   "metadata": {},
   "outputs": [],
   "source": [
    "y_train_predict = clf_chain_lr.predict(X_train).toarray()\n",
    "\n",
    "# print('Accuracy: ')\n",
    "# print(accuracy_score(y_train, y_train_predict))\n",
    "print('Precision: ')\n",
    "print(precision_score(y_train, y_train_predict))\n",
    "print('Recall: ')\n",
    "print(recall_score(y_train, y_train_predict))\n",
    "print('F1: ')\n",
    "print(f1_score(y_train, y_train_predict))\n",
    "print()\n",
    "\n",
    "y_test_predict = clf_chain_lr.predict(X_test).toarray()\n",
    "# print('Accuracy: ')\n",
    "# print(accuracy_score(y_test, y_test_predict))\n",
    "print('Precision: ')\n",
    "print(precision_score(y_test, y_test_predict))\n",
    "print('Recall: ')\n",
    "print(recall_score(y_test, y_test_predict))\n",
    "print('F1: ')\n",
    "print(f1_score(y_test, y_test_predict))"
   ]
  },
  {
   "cell_type": "code",
   "execution_count": null,
   "metadata": {},
   "outputs": [],
   "source": [
    "print(y_train.sum().sum())\n",
    "print(y_train_predict.sum())\n",
    "print()\n",
    "print(y_test.sum().sum())\n",
    "print(y_test_predict.sum())"
   ]
  }
 ],
 "metadata": {
  "kernelspec": {
   "display_name": "Python 3",
   "language": "python",
   "name": "python3"
  },
  "language_info": {
   "codemirror_mode": {
    "name": "ipython",
    "version": 3
   },
   "file_extension": ".py",
   "mimetype": "text/x-python",
   "name": "python",
   "nbconvert_exporter": "python",
   "pygments_lexer": "ipython3",
   "version": "3.7.3"
  }
 },
 "nbformat": 4,
 "nbformat_minor": 4
}
