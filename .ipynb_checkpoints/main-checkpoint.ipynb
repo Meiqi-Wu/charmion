{
 "cells": [
  {
   "cell_type": "markdown",
   "metadata": {},
   "source": [
    "Check the version of python and packages:"
   ]
  },
  {
   "cell_type": "code",
   "execution_count": 1,
   "metadata": {},
   "outputs": [
    {
     "name": "stdout",
     "output_type": "stream",
     "text": [
      "Python 3.7.3\r\n"
     ]
    }
   ],
   "source": [
    "!python --version"
   ]
  },
  {
   "cell_type": "code",
   "execution_count": 81,
   "metadata": {},
   "outputs": [
    {
     "name": "stdout",
     "output_type": "stream",
     "text": [
      "Collecting scikit-multilearn\n",
      "  Downloading scikit_multilearn-0.2.0-py3-none-any.whl (89 kB)\n",
      "\u001b[K     |████████████████████████████████| 89 kB 941 kB/s eta 0:00:01\n",
      "\u001b[?25hInstalling collected packages: scikit-multilearn\n",
      "Successfully installed scikit-multilearn-0.2.0\n"
     ]
    }
   ],
   "source": [
    "!pip install scikit-multilearn"
   ]
  },
  {
   "cell_type": "code",
   "execution_count": 116,
   "metadata": {},
   "outputs": [
    {
     "name": "stdout",
     "output_type": "stream",
     "text": [
      "The autoreload extension is already loaded. To reload it, use:\n",
      "  %reload_ext autoreload\n"
     ]
    }
   ],
   "source": [
    "import pandas as pd\n",
    "import numpy as np\n",
    "import matplotlib.pyplot as plt\n",
    "%matplotlib inline\n",
    "from sklearn.preprocessing import StandardScaler\n",
    "from sklearn.model_selection import GridSearchCV\n",
    "from sklearn.ensemble import RandomForestClassifier\n",
    "from skmultilearn.problem_transform import ClassifierChain\n",
    "from sklearn.metrics import make_scorer\n",
    "\n",
    "import torch\n",
    "import torch.nn as nn\n",
    "import torch.nn.functional as F\n",
    "import torch.optim as optim\n",
    "\n",
    "import warnings\n",
    "warnings.filterwarnings('ignore')\n",
    "\n",
    "%load_ext autoreload\n",
    "%autoreload 2"
   ]
  },
  {
   "cell_type": "code",
   "execution_count": 20,
   "metadata": {},
   "outputs": [],
   "source": [
    "from model import DenseNet, Model\n",
    "from evaluate import accuracy_score, precision_score, recall_score, f1_score"
   ]
  },
  {
   "cell_type": "code",
   "execution_count": 4,
   "metadata": {},
   "outputs": [
    {
     "data": {
      "text/plain": [
       "<torch._C.Generator at 0x1a1eedb750>"
      ]
     },
     "execution_count": 4,
     "metadata": {},
     "output_type": "execute_result"
    }
   ],
   "source": [
    "SEED = 123\n",
    "np.random.seed(SEED)\n",
    "torch.manual_seed(SEED)"
   ]
  },
  {
   "cell_type": "code",
   "execution_count": 5,
   "metadata": {},
   "outputs": [],
   "source": [
    "data_dir = './DATA/lish-moa/'"
   ]
  },
  {
   "cell_type": "markdown",
   "metadata": {},
   "source": [
    "## Load the dataset"
   ]
  },
  {
   "cell_type": "code",
   "execution_count": 6,
   "metadata": {},
   "outputs": [],
   "source": [
    "X = pd.read_csv(data_dir+'train_features.csv', index_col='sig_id')\n",
    "y = pd.read_csv(data_dir+'train_targets_scored.csv', index_col='sig_id')"
   ]
  },
  {
   "cell_type": "code",
   "execution_count": 7,
   "metadata": {},
   "outputs": [
    {
     "data": {
      "text/plain": [
       "1    12532\n",
       "0     9367\n",
       "2     1538\n",
       "3      303\n",
       "4       55\n",
       "5       13\n",
       "7        6\n",
       "dtype: int64"
      ]
     },
     "execution_count": 7,
     "metadata": {},
     "output_type": "execute_result"
    }
   ],
   "source": [
    "y.sum(axis=1).value_counts()"
   ]
  },
  {
   "cell_type": "code",
   "execution_count": 8,
   "metadata": {},
   "outputs": [
    {
     "data": {
      "text/plain": [
       "0.0034335680814337"
      ]
     },
     "execution_count": 8,
     "metadata": {},
     "output_type": "execute_result"
    }
   ],
   "source": [
    "y.sum().sum()/(y.shape[0]*y.shape[1])"
   ]
  },
  {
   "cell_type": "code",
   "execution_count": 9,
   "metadata": {},
   "outputs": [
    {
     "name": "stdout",
     "output_type": "stream",
     "text": [
      "(23814, 875)\n",
      "(23814, 206)\n"
     ]
    }
   ],
   "source": [
    "print(X.shape)\n",
    "print(y.shape)"
   ]
  },
  {
   "cell_type": "code",
   "execution_count": 10,
   "metadata": {},
   "outputs": [
    {
     "name": "stdout",
     "output_type": "stream",
     "text": [
      "0\n",
      "0\n"
     ]
    }
   ],
   "source": [
    "# Number of NA in X, and y\n",
    "print(X.isnull().sum().sum())\n",
    "print(y.isnull().sum().sum())"
   ]
  },
  {
   "cell_type": "code",
   "execution_count": 11,
   "metadata": {},
   "outputs": [
    {
     "data": {
      "image/png": "[encoded data removed]",
      "text/plain": [
       "<Figure size 432x288 with 1 Axes>"
      ]
     },
     "metadata": {
      "needs_background": "light"
     },
     "output_type": "display_data"
    }
   ],
   "source": [
    "# percentage of 1's in each column of y\n",
    "one_perc = y.apply(lambda x: x.sum()/len(y))\n",
    "plt.figure()\n",
    "plt.hist(one_perc, bins=100);"
   ]
  },
  {
   "cell_type": "code",
   "execution_count": 12,
   "metadata": {},
   "outputs": [
    {
     "data": {
      "text/plain": [
       "['cp_type', 'cp_dose']"
      ]
     },
     "execution_count": 12,
     "metadata": {},
     "output_type": "execute_result"
    }
   ],
   "source": [
    "# categorical columns\n",
    "col_cat = [col for col in X.columns if X[col].dtype == 'object']\n",
    "col_cat"
   ]
  },
  {
   "cell_type": "code",
   "execution_count": 13,
   "metadata": {},
   "outputs": [
    {
     "data": {
      "text/plain": [
       "trt_cp         21948\n",
       "ctl_vehicle     1866\n",
       "Name: cp_type, dtype: int64"
      ]
     },
     "execution_count": 13,
     "metadata": {},
     "output_type": "execute_result"
    }
   ],
   "source": [
    "X.cp_type.value_counts()"
   ]
  },
  {
   "cell_type": "code",
   "execution_count": 14,
   "metadata": {},
   "outputs": [
    {
     "data": {
      "text/plain": [
       "D1    12147\n",
       "D2    11667\n",
       "Name: cp_dose, dtype: int64"
      ]
     },
     "execution_count": 14,
     "metadata": {},
     "output_type": "execute_result"
    }
   ],
   "source": [
    "X.cp_dose.value_counts()"
   ]
  },
  {
   "cell_type": "markdown",
   "metadata": {},
   "source": [
    "## Preprocessing"
   ]
  },
  {
   "cell_type": "code",
   "execution_count": 15,
   "metadata": {},
   "outputs": [],
   "source": [
    "# One-hot encoding for cp_type and cp_dose\n",
    "X['cp_type'].replace({'trt_cp':1., 'ctl_vehicle':0.}, inplace=True)\n",
    "X['cp_dose'].replace({'D1':1., 'D2':0.}, inplace=True)"
   ]
  },
  {
   "cell_type": "code",
   "execution_count": 16,
   "metadata": {},
   "outputs": [],
   "source": [
    "# split into training set and test set\n",
    "ids = X.index.values.copy()\n",
    "np.random.shuffle(ids)\n",
    "\n",
    "train_perc, test_perc = 0.8, 0.2\n",
    "train_id = ids[:round(len(ids)*train_perc)]\n",
    "test_id = ids[round(len(ids)*train_perc)+1:]\n",
    "\n",
    "X_train = X.loc[train_id]\n",
    "X_test = X.loc[test_id]\n",
    "\n",
    "y_train = y.loc[train_id]\n",
    "y_test = y.loc[test_id]"
   ]
  },
  {
   "cell_type": "code",
   "execution_count": 17,
   "metadata": {},
   "outputs": [],
   "source": [
    "# normalize the data\n",
    "scaler = StandardScaler()\n",
    "X_train_norm = pd.DataFrame(scaler.fit_transform(X_train))\n",
    "X_train_norm.columns = X_train.columns\n",
    "X_train_norm.index = X_train.index\n",
    "\n",
    "X_test_norm = pd.DataFrame(scaler.transform(X_test))\n",
    "X_test_norm.columns = X_test.columns\n",
    "X_test_norm.index = X_test.index"
   ]
  },
  {
   "cell_type": "code",
   "execution_count": 18,
   "metadata": {},
   "outputs": [
    {
     "data": {
      "text/html": [
       "<div>\n",
       "<style scoped>\n",
       "    .dataframe tbody tr th:only-of-type {\n",
       "        vertical-align: middle;\n",
       "    }\n",
       "\n",
       "    .dataframe tbody tr th {\n",
       "        vertical-align: top;\n",
       "    }\n",
       "\n",
       "    .dataframe thead th {\n",
       "        text-align: right;\n",
       "    }\n",
       "</style>\n",
       "<table border=\"1\" class=\"dataframe\">\n",
       "  <thead>\n",
       "    <tr style=\"text-align: right;\">\n",
       "      <th></th>\n",
       "      <th>cp_type</th>\n",
       "      <th>cp_time</th>\n",
       "      <th>cp_dose</th>\n",
       "      <th>g-0</th>\n",
       "      <th>g-1</th>\n",
       "      <th>g-2</th>\n",
       "      <th>g-3</th>\n",
       "      <th>g-4</th>\n",
       "      <th>g-5</th>\n",
       "      <th>g-6</th>\n",
       "      <th>...</th>\n",
       "      <th>c-90</th>\n",
       "      <th>c-91</th>\n",
       "      <th>c-92</th>\n",
       "      <th>c-93</th>\n",
       "      <th>c-94</th>\n",
       "      <th>c-95</th>\n",
       "      <th>c-96</th>\n",
       "      <th>c-97</th>\n",
       "      <th>c-98</th>\n",
       "      <th>c-99</th>\n",
       "    </tr>\n",
       "    <tr>\n",
       "      <th>sig_id</th>\n",
       "      <th></th>\n",
       "      <th></th>\n",
       "      <th></th>\n",
       "      <th></th>\n",
       "      <th></th>\n",
       "      <th></th>\n",
       "      <th></th>\n",
       "      <th></th>\n",
       "      <th></th>\n",
       "      <th></th>\n",
       "      <th></th>\n",
       "      <th></th>\n",
       "      <th></th>\n",
       "      <th></th>\n",
       "      <th></th>\n",
       "      <th></th>\n",
       "      <th></th>\n",
       "      <th></th>\n",
       "      <th></th>\n",
       "      <th></th>\n",
       "      <th></th>\n",
       "    </tr>\n",
       "  </thead>\n",
       "  <tbody>\n",
       "    <tr>\n",
       "      <th>id_eed4f5eb5</th>\n",
       "      <td>-3.451946</td>\n",
       "      <td>-1.236669</td>\n",
       "      <td>0.980918</td>\n",
       "      <td>-0.456171</td>\n",
       "      <td>0.005873</td>\n",
       "      <td>0.427600</td>\n",
       "      <td>-1.182563</td>\n",
       "      <td>-0.524187</td>\n",
       "      <td>-0.299103</td>\n",
       "      <td>0.945605</td>\n",
       "      <td>...</td>\n",
       "      <td>0.375991</td>\n",
       "      <td>0.037446</td>\n",
       "      <td>-0.282627</td>\n",
       "      <td>0.153964</td>\n",
       "      <td>0.308799</td>\n",
       "      <td>1.054493</td>\n",
       "      <td>0.141999</td>\n",
       "      <td>0.306620</td>\n",
       "      <td>0.225334</td>\n",
       "      <td>-0.099044</td>\n",
       "    </tr>\n",
       "    <tr>\n",
       "      <th>id_528f47dac</th>\n",
       "      <td>0.289692</td>\n",
       "      <td>0.000195</td>\n",
       "      <td>0.980918</td>\n",
       "      <td>0.450424</td>\n",
       "      <td>-0.319481</td>\n",
       "      <td>-1.396536</td>\n",
       "      <td>-0.005718</td>\n",
       "      <td>-0.247520</td>\n",
       "      <td>3.341033</td>\n",
       "      <td>-0.484051</td>\n",
       "      <td>...</td>\n",
       "      <td>0.721413</td>\n",
       "      <td>0.594174</td>\n",
       "      <td>0.488883</td>\n",
       "      <td>0.341703</td>\n",
       "      <td>0.586436</td>\n",
       "      <td>-0.182267</td>\n",
       "      <td>0.546444</td>\n",
       "      <td>0.400113</td>\n",
       "      <td>0.337062</td>\n",
       "      <td>-0.275528</td>\n",
       "    </tr>\n",
       "    <tr>\n",
       "      <th>id_f706afa88</th>\n",
       "      <td>0.289692</td>\n",
       "      <td>0.000195</td>\n",
       "      <td>0.980918</td>\n",
       "      <td>-1.099553</td>\n",
       "      <td>-0.396522</td>\n",
       "      <td>0.778984</td>\n",
       "      <td>0.962121</td>\n",
       "      <td>-1.001836</td>\n",
       "      <td>-0.126575</td>\n",
       "      <td>-0.266299</td>\n",
       "      <td>...</td>\n",
       "      <td>-0.087900</td>\n",
       "      <td>0.444295</td>\n",
       "      <td>0.397154</td>\n",
       "      <td>0.733476</td>\n",
       "      <td>0.023046</td>\n",
       "      <td>-0.501745</td>\n",
       "      <td>0.458904</td>\n",
       "      <td>0.297883</td>\n",
       "      <td>-0.976632</td>\n",
       "      <td>-0.523066</td>\n",
       "    </tr>\n",
       "    <tr>\n",
       "      <th>id_1bb6de988</th>\n",
       "      <td>0.289692</td>\n",
       "      <td>-1.236669</td>\n",
       "      <td>0.980918</td>\n",
       "      <td>0.036681</td>\n",
       "      <td>0.470222</td>\n",
       "      <td>-0.214747</td>\n",
       "      <td>-0.247864</td>\n",
       "      <td>-0.645399</td>\n",
       "      <td>0.058925</td>\n",
       "      <td>0.002735</td>\n",
       "      <td>...</td>\n",
       "      <td>0.867269</td>\n",
       "      <td>0.825751</td>\n",
       "      <td>0.473814</td>\n",
       "      <td>0.355106</td>\n",
       "      <td>0.348301</td>\n",
       "      <td>0.526270</td>\n",
       "      <td>0.141260</td>\n",
       "      <td>0.030956</td>\n",
       "      <td>0.190197</td>\n",
       "      <td>0.451120</td>\n",
       "    </tr>\n",
       "    <tr>\n",
       "      <th>id_a1c138776</th>\n",
       "      <td>0.289692</td>\n",
       "      <td>-1.236669</td>\n",
       "      <td>0.980918</td>\n",
       "      <td>2.208361</td>\n",
       "      <td>1.993362</td>\n",
       "      <td>-0.351596</td>\n",
       "      <td>2.984833</td>\n",
       "      <td>0.780252</td>\n",
       "      <td>-0.034757</td>\n",
       "      <td>0.413108</td>\n",
       "      <td>...</td>\n",
       "      <td>-0.524355</td>\n",
       "      <td>0.430530</td>\n",
       "      <td>0.463650</td>\n",
       "      <td>0.653685</td>\n",
       "      <td>-0.315908</td>\n",
       "      <td>-0.252784</td>\n",
       "      <td>0.071061</td>\n",
       "      <td>0.000940</td>\n",
       "      <td>0.341108</td>\n",
       "      <td>0.516565</td>\n",
       "    </tr>\n",
       "  </tbody>\n",
       "</table>\n",
       "<p>5 rows × 875 columns</p>\n",
       "</div>"
      ],
      "text/plain": [
       "               cp_type   cp_time   cp_dose       g-0       g-1       g-2  \\\n",
       "sig_id                                                                     \n",
       "id_eed4f5eb5 -3.451946 -1.236669  0.980918 -0.456171  0.005873  0.427600   \n",
       "id_528f47dac  0.289692  0.000195  0.980918  0.450424 -0.319481 -1.396536   \n",
       "id_f706afa88  0.289692  0.000195  0.980918 -1.099553 -0.396522  0.778984   \n",
       "id_1bb6de988  0.289692 -1.236669  0.980918  0.036681  0.470222 -0.214747   \n",
       "id_a1c138776  0.289692 -1.236669  0.980918  2.208361  1.993362 -0.351596   \n",
       "\n",
       "                   g-3       g-4       g-5       g-6  ...      c-90      c-91  \\\n",
       "sig_id                                                ...                       \n",
       "id_eed4f5eb5 -1.182563 -0.524187 -0.299103  0.945605  ...  0.375991  0.037446   \n",
       "id_528f47dac -0.005718 -0.247520  3.341033 -0.484051  ...  0.721413  0.594174   \n",
       "id_f706afa88  0.962121 -1.001836 -0.126575 -0.266299  ... -0.087900  0.444295   \n",
       "id_1bb6de988 -0.247864 -0.645399  0.058925  0.002735  ...  0.867269  0.825751   \n",
       "id_a1c138776  2.984833  0.780252 -0.034757  0.413108  ... -0.524355  0.430530   \n",
       "\n",
       "                  c-92      c-93      c-94      c-95      c-96      c-97  \\\n",
       "sig_id                                                                     \n",
       "id_eed4f5eb5 -0.282627  0.153964  0.308799  1.054493  0.141999  0.306620   \n",
       "id_528f47dac  0.488883  0.341703  0.586436 -0.182267  0.546444  0.400113   \n",
       "id_f706afa88  0.397154  0.733476  0.023046 -0.501745  0.458904  0.297883   \n",
       "id_1bb6de988  0.473814  0.355106  0.348301  0.526270  0.141260  0.030956   \n",
       "id_a1c138776  0.463650  0.653685 -0.315908 -0.252784  0.071061  0.000940   \n",
       "\n",
       "                  c-98      c-99  \n",
       "sig_id                            \n",
       "id_eed4f5eb5  0.225334 -0.099044  \n",
       "id_528f47dac  0.337062 -0.275528  \n",
       "id_f706afa88 -0.976632 -0.523066  \n",
       "id_1bb6de988  0.190197  0.451120  \n",
       "id_a1c138776  0.341108  0.516565  \n",
       "\n",
       "[5 rows x 875 columns]"
      ]
     },
     "execution_count": 18,
     "metadata": {},
     "output_type": "execute_result"
    }
   ],
   "source": [
    "X_train_norm.head()"
   ]
  },
  {
   "cell_type": "markdown",
   "metadata": {},
   "source": [
    "## Models  \n",
    "\n",
    "### Model 1: Neural Network"
   ]
  },
  {
   "cell_type": "code",
   "execution_count": 54,
   "metadata": {
    "scrolled": true
   },
   "outputs": [
    {
     "name": "stdout",
     "output_type": "stream",
     "text": [
      "Epoch [1, 0] : loss 1.047469139099121\n",
      "Epoch [1, 3840] : loss 1.0503969192504883\n",
      "Epoch [1, 7680] : loss 1.0482181310653687\n",
      "Epoch [1, 11520] : loss 1.0571616888046265\n",
      "Epoch [1, 15360] : loss 1.0565568208694458\n",
      "Epoch [2, 0] : loss 1.0441319942474365\n",
      "Epoch [2, 3840] : loss 1.046202301979065\n",
      "Epoch [2, 7680] : loss 1.0408885478973389\n",
      "Epoch [2, 11520] : loss 1.0427759885787964\n",
      "Epoch [2, 15360] : loss 1.027367115020752\n",
      "Epoch [3, 0] : loss 0.9818310737609863\n",
      "Epoch [3, 3840] : loss 0.9502124786376953\n",
      "Epoch [3, 7680] : loss 0.8936072587966919\n",
      "Epoch [3, 11520] : loss 0.8563058972358704\n",
      "Epoch [3, 15360] : loss 0.8363940119743347\n",
      "Epoch [4, 0] : loss 0.8102911710739136\n",
      "Epoch [4, 3840] : loss 0.8154917359352112\n",
      "Epoch [4, 7680] : loss 0.8098849058151245\n",
      "Epoch [4, 11520] : loss 0.8210698962211609\n",
      "Epoch [4, 15360] : loss 0.8198848962783813\n",
      "Epoch [5, 0] : loss 0.8009716868400574\n",
      "Epoch [5, 3840] : loss 0.8100683689117432\n",
      "Epoch [5, 7680] : loss 0.8062267303466797\n",
      "Epoch [5, 11520] : loss 0.8193537592887878\n",
      "Epoch [5, 15360] : loss 0.8186420202255249\n",
      "Epoch [6, 0] : loss 0.7998108863830566\n",
      "Epoch [6, 3840] : loss 0.8091846704483032\n",
      "Epoch [6, 7680] : loss 0.8052020072937012\n",
      "Epoch [6, 11520] : loss 0.8191502690315247\n",
      "Epoch [6, 15360] : loss 0.818070113658905\n",
      "Epoch [7, 0] : loss 0.7993072867393494\n",
      "Epoch [7, 3840] : loss 0.8087411522865295\n",
      "Epoch [7, 7680] : loss 0.8048720955848694\n",
      "Epoch [7, 11520] : loss 0.818664014339447\n",
      "Epoch [7, 15360] : loss 0.8178984522819519\n",
      "Epoch [8, 0] : loss 0.7990193963050842\n",
      "Epoch [8, 3840] : loss 0.8083344101905823\n",
      "Epoch [8, 7680] : loss 0.8045181632041931\n",
      "Epoch [8, 11520] : loss 0.8185304999351501\n",
      "Epoch [8, 15360] : loss 0.817438006401062\n",
      "Epoch [9, 0] : loss 0.7988059520721436\n",
      "Epoch [9, 3840] : loss 0.8081699013710022\n",
      "Epoch [9, 7680] : loss 0.8045699596405029\n",
      "Epoch [9, 11520] : loss 0.8182210922241211\n",
      "Epoch [9, 15360] : loss 0.8173620700836182\n",
      "Epoch [10, 0] : loss 0.7983700633049011\n",
      "Epoch [10, 3840] : loss 0.8078409433364868\n",
      "Epoch [10, 7680] : loss 0.8038129210472107\n",
      "Epoch [10, 11520] : loss 0.8175380825996399\n",
      "Epoch [10, 15360] : loss 0.8166278600692749\n"
     ]
    }
   ],
   "source": [
    "params_net = {'input_size': X_train_norm.shape[1],\n",
    "             'hidden_size': [1024, 512, 256, 128 ,256, 512, 1024],\n",
    "             'output_size': y_train.shape[1],\n",
    "             'dropout': 0.01}\n",
    "\n",
    "params_fit = {'X':X_train_norm,\n",
    "             'y': y_train,\n",
    "             'epoch': 10,\n",
    "             'lr': 5e-6,\n",
    "             'batch_size':128,\n",
    "             'L2': 0,\n",
    "             'pos_weight':50,\n",
    "             'verbose':True}\n",
    "\n",
    "net = DenseNet(**params_net)\n",
    "model = Model(net)\n",
    "model.fit(**params_fit)"
   ]
  },
  {
   "cell_type": "code",
   "execution_count": 71,
   "metadata": {},
   "outputs": [
    {
     "name": "stdout",
     "output_type": "stream",
     "text": [
      "Precision: \n",
      "0.1584953508030431\n",
      "Recall: \n",
      "0.08367422833767199\n",
      "F1: \n",
      "0.10952635934381541\n"
     ]
    }
   ],
   "source": [
    "y_train_predict = model.predict(X_train_norm, 0.45)\n",
    "\n",
    "# print('Accuracy: ')\n",
    "# print(accuracy_score(y_train, y_train_predict))\n",
    "print('Precision: ')\n",
    "print(precision_score(y_train, y_train_predict))\n",
    "print('Recall: ')\n",
    "print(recall_score(y_train, y_train_predict))\n",
    "print('F1: ')\n",
    "print(f1_score(y_train, y_train_predict))"
   ]
  },
  {
   "cell_type": "code",
   "execution_count": 72,
   "metadata": {},
   "outputs": [
    {
     "name": "stdout",
     "output_type": "stream",
     "text": [
      "Precision: \n",
      "0.18147951037786056\n",
      "Recall: \n",
      "0.1003531489111242\n",
      "F1: \n",
      "0.1292400985408376\n"
     ]
    }
   ],
   "source": [
    "y_test_predict = model.predict(X_test_norm, 0.45)\n",
    "\n",
    "# print('Accuracy: ')\n",
    "# print(accuracy_score(y_test, y_test_predict))\n",
    "print('Precision: ')\n",
    "print(precision_score(y_test, y_test_predict))\n",
    "print('Recall: ')\n",
    "print(recall_score(y_test, y_test_predict))\n",
    "print('F1: ')\n",
    "print(f1_score(y_test, y_test_predict))"
   ]
  },
  {
   "cell_type": "code",
   "execution_count": 73,
   "metadata": {},
   "outputs": [
    {
     "name": "stdout",
     "output_type": "stream",
     "text": [
      "13445\n",
      "7098\n"
     ]
    }
   ],
   "source": [
    "print(y_train.sum().sum())\n",
    "print(y_train_predict.sum())"
   ]
  },
  {
   "cell_type": "code",
   "execution_count": 74,
   "metadata": {},
   "outputs": [
    {
     "name": "stdout",
     "output_type": "stream",
     "text": [
      "3398\n",
      "1879\n"
     ]
    }
   ],
   "source": [
    "print(y_test.sum().sum())\n",
    "print(y_test_predict.sum())"
   ]
  },
  {
   "cell_type": "code",
   "execution_count": null,
   "metadata": {},
   "outputs": [],
   "source": [
    "# grid search for pos_weight\n",
    "\n",
    "\n"
   ]
  },
  {
   "cell_type": "markdown",
   "metadata": {},
   "source": [
    "### Model 2: Random Forest"
   ]
  },
  {
   "cell_type": "code",
   "execution_count": 139,
   "metadata": {},
   "outputs": [
    {
     "data": {
      "text/plain": [
       "RandomForestClassifier(bootstrap=True,\n",
       "            class_weight=[{0: 1, 1: 1}, {0: 1, 1: 1}, {0: 1, 1: 1}, {0: 1, 1: 1}, {0: 1, 1: 1}, {0: 1, 1: 1}, {0: 1, 1: 1}, {0: 1, 1: 1}, {0: 1, 1: 1}, {0: 1, 1: 1}, {0: 1, 1: 1}, {0: 1, 1: 1}, {0: 1, 1: 1}, {0: 1, 1: 1}, {0: 1, 1: 1}, {0: 1, 1: 1}, {0: 1, 1: 1}, {0: 1, 1: 1}, {0: 1, 1: 1}, {0: 1, 1: 1}, {0: 1,...}, {0: 1, 1: 1}, {0: 1, 1: 1}, {0: 1, 1: 1}, {0: 1, 1: 1}, {0: 1, 1: 1}, {0: 1, 1: 1}, {0: 1, 1: 1}],\n",
       "            criterion='gini', max_depth=20, max_features='auto',\n",
       "            max_leaf_nodes=None, min_impurity_decrease=0.0,\n",
       "            min_impurity_split=None, min_samples_leaf=1,\n",
       "            min_samples_split=2, min_weight_fraction_leaf=0.0,\n",
       "            n_estimators=100, n_jobs=None, oob_score=False,\n",
       "            random_state=100, verbose=0, warm_start=False)"
      ]
     },
     "execution_count": 139,
     "metadata": {},
     "output_type": "execute_result"
    }
   ],
   "source": [
    "rfc = RandomForestClassifier(n_estimators = 100,\n",
    "                             max_depth = 20,\n",
    "                             class_weight = [{0:1, 1:1}]*y_train.shape[1],\n",
    "                             random_state=100)\n",
    "rfc.fit(X_train, y_train)"
   ]
  },
  {
   "cell_type": "code",
   "execution_count": 135,
   "metadata": {},
   "outputs": [
    {
     "name": "stdout",
     "output_type": "stream",
     "text": [
      "Precision: \n",
      "1.0\n",
      "Recall: \n",
      "0.005801413164745258\n",
      "F1: \n",
      "0.01153590179693855\n"
     ]
    }
   ],
   "source": [
    "y_train_predict = rfc.predict(X_train_norm)\n",
    "\n",
    "# print('Accuracy: ')\n",
    "# print(accuracy_score(y_train, y_train_predict))\n",
    "print('Precision: ')\n",
    "print(precision_score(y_train, y_train_predict))\n",
    "print('Recall: ')\n",
    "print(recall_score(y_train, y_train_predict))\n",
    "print('F1: ')\n",
    "print(f1_score(y_train, y_train_predict))"
   ]
  },
  {
   "cell_type": "code",
   "execution_count": 136,
   "metadata": {},
   "outputs": [
    {
     "name": "stdout",
     "output_type": "stream",
     "text": [
      "Precision: \n",
      "1.0\n",
      "Recall: \n",
      "0.002354326074161271\n",
      "F1: \n",
      "0.004697592483852026\n"
     ]
    }
   ],
   "source": [
    "y_test_predict = rfc.predict(X_test_norm)\n",
    "\n",
    "# print('Accuracy: ')\n",
    "# print(accuracy_score(y_test, y_test_predict))\n",
    "print('Precision: ')\n",
    "print(precision_score(y_test, y_test_predict))\n",
    "print('Recall: ')\n",
    "print(recall_score(y_test, y_test_predict))\n",
    "print('F1: ')\n",
    "print(f1_score(y_test, y_test_predict))"
   ]
  },
  {
   "cell_type": "code",
   "execution_count": 140,
   "metadata": {},
   "outputs": [
    {
     "name": "stdout",
     "output_type": "stream",
     "text": [
      "13445\n",
      "78.0\n"
     ]
    }
   ],
   "source": [
    "print(y_train.sum().sum())\n",
    "print(y_train_predict.sum())"
   ]
  },
  {
   "cell_type": "code",
   "execution_count": 138,
   "metadata": {},
   "outputs": [
    {
     "name": "stdout",
     "output_type": "stream",
     "text": [
      "3398\n",
      "8.0\n"
     ]
    }
   ],
   "source": [
    "print(y_test.sum().sum())\n",
    "print(y_test_predict.sum())"
   ]
  },
  {
   "cell_type": "code",
   "execution_count": 123,
   "metadata": {
    "scrolled": true
   },
   "outputs": [
    {
     "ename": "ValueError",
     "evalue": "Class label 1 not present.",
     "output_type": "error",
     "traceback": [
      "\u001b[0;31m---------------------------------------------------------------------------\u001b[0m",
      "\u001b[0;31mValueError\u001b[0m                                Traceback (most recent call last)",
      "\u001b[0;32m<ipython-input-123-7105e1ff4349>\u001b[0m in \u001b[0;36m<module>\u001b[0;34m\u001b[0m\n\u001b[1;32m      6\u001b[0m \u001b[0mrfc\u001b[0m \u001b[0;34m=\u001b[0m \u001b[0mRandomForestClassifier\u001b[0m\u001b[0;34m(\u001b[0m\u001b[0mrandom_state\u001b[0m\u001b[0;34m=\u001b[0m\u001b[0;36m100\u001b[0m\u001b[0;34m)\u001b[0m\u001b[0;34m\u001b[0m\u001b[0;34m\u001b[0m\u001b[0m\n\u001b[1;32m      7\u001b[0m \u001b[0mclf\u001b[0m \u001b[0;34m=\u001b[0m \u001b[0mGridSearchCV\u001b[0m\u001b[0;34m(\u001b[0m\u001b[0mrfc\u001b[0m\u001b[0;34m,\u001b[0m \u001b[0mparameters\u001b[0m\u001b[0;34m,\u001b[0m \u001b[0mscoring\u001b[0m\u001b[0;34m=\u001b[0m\u001b[0mmake_scorer\u001b[0m\u001b[0;34m(\u001b[0m\u001b[0mf1_score\u001b[0m\u001b[0;34m,\u001b[0m \u001b[0mgreater_is_better\u001b[0m\u001b[0;34m=\u001b[0m\u001b[0;32mTrue\u001b[0m\u001b[0;34m)\u001b[0m\u001b[0;34m)\u001b[0m\u001b[0;34m\u001b[0m\u001b[0;34m\u001b[0m\u001b[0m\n\u001b[0;32m----> 8\u001b[0;31m \u001b[0mclf\u001b[0m\u001b[0;34m.\u001b[0m\u001b[0mfit\u001b[0m\u001b[0;34m(\u001b[0m\u001b[0mX_train\u001b[0m\u001b[0;34m,\u001b[0m \u001b[0my_train\u001b[0m\u001b[0;34m)\u001b[0m\u001b[0;34m\u001b[0m\u001b[0;34m\u001b[0m\u001b[0m\n\u001b[0m",
      "\u001b[0;32m//anaconda3/lib/python3.7/site-packages/sklearn/model_selection/_search.py\u001b[0m in \u001b[0;36mfit\u001b[0;34m(self, X, y, groups, **fit_params)\u001b[0m\n\u001b[1;32m    720\u001b[0m                 \u001b[0;32mreturn\u001b[0m \u001b[0mresults_container\u001b[0m\u001b[0;34m[\u001b[0m\u001b[0;36m0\u001b[0m\u001b[0;34m]\u001b[0m\u001b[0;34m\u001b[0m\u001b[0;34m\u001b[0m\u001b[0m\n\u001b[1;32m    721\u001b[0m \u001b[0;34m\u001b[0m\u001b[0m\n\u001b[0;32m--> 722\u001b[0;31m             \u001b[0mself\u001b[0m\u001b[0;34m.\u001b[0m\u001b[0m_run_search\u001b[0m\u001b[0;34m(\u001b[0m\u001b[0mevaluate_candidates\u001b[0m\u001b[0;34m)\u001b[0m\u001b[0;34m\u001b[0m\u001b[0;34m\u001b[0m\u001b[0m\n\u001b[0m\u001b[1;32m    723\u001b[0m \u001b[0;34m\u001b[0m\u001b[0m\n\u001b[1;32m    724\u001b[0m         \u001b[0mresults\u001b[0m \u001b[0;34m=\u001b[0m \u001b[0mresults_container\u001b[0m\u001b[0;34m[\u001b[0m\u001b[0;36m0\u001b[0m\u001b[0;34m]\u001b[0m\u001b[0;34m\u001b[0m\u001b[0;34m\u001b[0m\u001b[0m\n",
      "\u001b[0;32m//anaconda3/lib/python3.7/site-packages/sklearn/model_selection/_search.py\u001b[0m in \u001b[0;36m_run_search\u001b[0;34m(self, evaluate_candidates)\u001b[0m\n\u001b[1;32m   1189\u001b[0m     \u001b[0;32mdef\u001b[0m \u001b[0m_run_search\u001b[0m\u001b[0;34m(\u001b[0m\u001b[0mself\u001b[0m\u001b[0;34m,\u001b[0m \u001b[0mevaluate_candidates\u001b[0m\u001b[0;34m)\u001b[0m\u001b[0;34m:\u001b[0m\u001b[0;34m\u001b[0m\u001b[0;34m\u001b[0m\u001b[0m\n\u001b[1;32m   1190\u001b[0m         \u001b[0;34m\"\"\"Search all candidates in param_grid\"\"\"\u001b[0m\u001b[0;34m\u001b[0m\u001b[0;34m\u001b[0m\u001b[0m\n\u001b[0;32m-> 1191\u001b[0;31m         \u001b[0mevaluate_candidates\u001b[0m\u001b[0;34m(\u001b[0m\u001b[0mParameterGrid\u001b[0m\u001b[0;34m(\u001b[0m\u001b[0mself\u001b[0m\u001b[0;34m.\u001b[0m\u001b[0mparam_grid\u001b[0m\u001b[0;34m)\u001b[0m\u001b[0;34m)\u001b[0m\u001b[0;34m\u001b[0m\u001b[0;34m\u001b[0m\u001b[0m\n\u001b[0m\u001b[1;32m   1192\u001b[0m \u001b[0;34m\u001b[0m\u001b[0m\n\u001b[1;32m   1193\u001b[0m \u001b[0;34m\u001b[0m\u001b[0m\n",
      "\u001b[0;32m//anaconda3/lib/python3.7/site-packages/sklearn/model_selection/_search.py\u001b[0m in \u001b[0;36mevaluate_candidates\u001b[0;34m(candidate_params)\u001b[0m\n\u001b[1;32m    709\u001b[0m                                \u001b[0;32mfor\u001b[0m \u001b[0mparameters\u001b[0m\u001b[0;34m,\u001b[0m \u001b[0;34m(\u001b[0m\u001b[0mtrain\u001b[0m\u001b[0;34m,\u001b[0m \u001b[0mtest\u001b[0m\u001b[0;34m)\u001b[0m\u001b[0;34m\u001b[0m\u001b[0;34m\u001b[0m\u001b[0m\n\u001b[1;32m    710\u001b[0m                                in product(candidate_params,\n\u001b[0;32m--> 711\u001b[0;31m                                           cv.split(X, y, groups)))\n\u001b[0m\u001b[1;32m    712\u001b[0m \u001b[0;34m\u001b[0m\u001b[0m\n\u001b[1;32m    713\u001b[0m                 \u001b[0mall_candidate_params\u001b[0m\u001b[0;34m.\u001b[0m\u001b[0mextend\u001b[0m\u001b[0;34m(\u001b[0m\u001b[0mcandidate_params\u001b[0m\u001b[0;34m)\u001b[0m\u001b[0;34m\u001b[0m\u001b[0;34m\u001b[0m\u001b[0m\n",
      "\u001b[0;32m//anaconda3/lib/python3.7/site-packages/sklearn/externals/joblib/parallel.py\u001b[0m in \u001b[0;36m__call__\u001b[0;34m(self, iterable)\u001b[0m\n\u001b[1;32m    915\u001b[0m             \u001b[0;31m# remaining jobs.\u001b[0m\u001b[0;34m\u001b[0m\u001b[0;34m\u001b[0m\u001b[0;34m\u001b[0m\u001b[0m\n\u001b[1;32m    916\u001b[0m             \u001b[0mself\u001b[0m\u001b[0;34m.\u001b[0m\u001b[0m_iterating\u001b[0m \u001b[0;34m=\u001b[0m \u001b[0;32mFalse\u001b[0m\u001b[0;34m\u001b[0m\u001b[0;34m\u001b[0m\u001b[0m\n\u001b[0;32m--> 917\u001b[0;31m             \u001b[0;32mif\u001b[0m \u001b[0mself\u001b[0m\u001b[0;34m.\u001b[0m\u001b[0mdispatch_one_batch\u001b[0m\u001b[0;34m(\u001b[0m\u001b[0miterator\u001b[0m\u001b[0;34m)\u001b[0m\u001b[0;34m:\u001b[0m\u001b[0;34m\u001b[0m\u001b[0;34m\u001b[0m\u001b[0m\n\u001b[0m\u001b[1;32m    918\u001b[0m                 \u001b[0mself\u001b[0m\u001b[0;34m.\u001b[0m\u001b[0m_iterating\u001b[0m \u001b[0;34m=\u001b[0m \u001b[0mself\u001b[0m\u001b[0;34m.\u001b[0m\u001b[0m_original_iterator\u001b[0m \u001b[0;32mis\u001b[0m \u001b[0;32mnot\u001b[0m \u001b[0;32mNone\u001b[0m\u001b[0;34m\u001b[0m\u001b[0;34m\u001b[0m\u001b[0m\n\u001b[1;32m    919\u001b[0m \u001b[0;34m\u001b[0m\u001b[0m\n",
      "\u001b[0;32m//anaconda3/lib/python3.7/site-packages/sklearn/externals/joblib/parallel.py\u001b[0m in \u001b[0;36mdispatch_one_batch\u001b[0;34m(self, iterator)\u001b[0m\n\u001b[1;32m    757\u001b[0m                 \u001b[0;32mreturn\u001b[0m \u001b[0;32mFalse\u001b[0m\u001b[0;34m\u001b[0m\u001b[0;34m\u001b[0m\u001b[0m\n\u001b[1;32m    758\u001b[0m             \u001b[0;32melse\u001b[0m\u001b[0;34m:\u001b[0m\u001b[0;34m\u001b[0m\u001b[0;34m\u001b[0m\u001b[0m\n\u001b[0;32m--> 759\u001b[0;31m                 \u001b[0mself\u001b[0m\u001b[0;34m.\u001b[0m\u001b[0m_dispatch\u001b[0m\u001b[0;34m(\u001b[0m\u001b[0mtasks\u001b[0m\u001b[0;34m)\u001b[0m\u001b[0;34m\u001b[0m\u001b[0;34m\u001b[0m\u001b[0m\n\u001b[0m\u001b[1;32m    760\u001b[0m                 \u001b[0;32mreturn\u001b[0m \u001b[0;32mTrue\u001b[0m\u001b[0;34m\u001b[0m\u001b[0;34m\u001b[0m\u001b[0m\n\u001b[1;32m    761\u001b[0m \u001b[0;34m\u001b[0m\u001b[0m\n",
      "\u001b[0;32m//anaconda3/lib/python3.7/site-packages/sklearn/externals/joblib/parallel.py\u001b[0m in \u001b[0;36m_dispatch\u001b[0;34m(self, batch)\u001b[0m\n\u001b[1;32m    714\u001b[0m         \u001b[0;32mwith\u001b[0m \u001b[0mself\u001b[0m\u001b[0;34m.\u001b[0m\u001b[0m_lock\u001b[0m\u001b[0;34m:\u001b[0m\u001b[0;34m\u001b[0m\u001b[0;34m\u001b[0m\u001b[0m\n\u001b[1;32m    715\u001b[0m             \u001b[0mjob_idx\u001b[0m \u001b[0;34m=\u001b[0m \u001b[0mlen\u001b[0m\u001b[0;34m(\u001b[0m\u001b[0mself\u001b[0m\u001b[0;34m.\u001b[0m\u001b[0m_jobs\u001b[0m\u001b[0;34m)\u001b[0m\u001b[0;34m\u001b[0m\u001b[0;34m\u001b[0m\u001b[0m\n\u001b[0;32m--> 716\u001b[0;31m             \u001b[0mjob\u001b[0m \u001b[0;34m=\u001b[0m \u001b[0mself\u001b[0m\u001b[0;34m.\u001b[0m\u001b[0m_backend\u001b[0m\u001b[0;34m.\u001b[0m\u001b[0mapply_async\u001b[0m\u001b[0;34m(\u001b[0m\u001b[0mbatch\u001b[0m\u001b[0;34m,\u001b[0m \u001b[0mcallback\u001b[0m\u001b[0;34m=\u001b[0m\u001b[0mcb\u001b[0m\u001b[0;34m)\u001b[0m\u001b[0;34m\u001b[0m\u001b[0;34m\u001b[0m\u001b[0m\n\u001b[0m\u001b[1;32m    717\u001b[0m             \u001b[0;31m# A job can complete so quickly than its callback is\u001b[0m\u001b[0;34m\u001b[0m\u001b[0;34m\u001b[0m\u001b[0;34m\u001b[0m\u001b[0m\n\u001b[1;32m    718\u001b[0m             \u001b[0;31m# called before we get here, causing self._jobs to\u001b[0m\u001b[0;34m\u001b[0m\u001b[0;34m\u001b[0m\u001b[0;34m\u001b[0m\u001b[0m\n",
      "\u001b[0;32m//anaconda3/lib/python3.7/site-packages/sklearn/externals/joblib/_parallel_backends.py\u001b[0m in \u001b[0;36mapply_async\u001b[0;34m(self, func, callback)\u001b[0m\n\u001b[1;32m    180\u001b[0m     \u001b[0;32mdef\u001b[0m \u001b[0mapply_async\u001b[0m\u001b[0;34m(\u001b[0m\u001b[0mself\u001b[0m\u001b[0;34m,\u001b[0m \u001b[0mfunc\u001b[0m\u001b[0;34m,\u001b[0m \u001b[0mcallback\u001b[0m\u001b[0;34m=\u001b[0m\u001b[0;32mNone\u001b[0m\u001b[0;34m)\u001b[0m\u001b[0;34m:\u001b[0m\u001b[0;34m\u001b[0m\u001b[0;34m\u001b[0m\u001b[0m\n\u001b[1;32m    181\u001b[0m         \u001b[0;34m\"\"\"Schedule a func to be run\"\"\"\u001b[0m\u001b[0;34m\u001b[0m\u001b[0;34m\u001b[0m\u001b[0m\n\u001b[0;32m--> 182\u001b[0;31m         \u001b[0mresult\u001b[0m \u001b[0;34m=\u001b[0m \u001b[0mImmediateResult\u001b[0m\u001b[0;34m(\u001b[0m\u001b[0mfunc\u001b[0m\u001b[0;34m)\u001b[0m\u001b[0;34m\u001b[0m\u001b[0;34m\u001b[0m\u001b[0m\n\u001b[0m\u001b[1;32m    183\u001b[0m         \u001b[0;32mif\u001b[0m \u001b[0mcallback\u001b[0m\u001b[0;34m:\u001b[0m\u001b[0;34m\u001b[0m\u001b[0;34m\u001b[0m\u001b[0m\n\u001b[1;32m    184\u001b[0m             \u001b[0mcallback\u001b[0m\u001b[0;34m(\u001b[0m\u001b[0mresult\u001b[0m\u001b[0;34m)\u001b[0m\u001b[0;34m\u001b[0m\u001b[0;34m\u001b[0m\u001b[0m\n",
      "\u001b[0;32m//anaconda3/lib/python3.7/site-packages/sklearn/externals/joblib/_parallel_backends.py\u001b[0m in \u001b[0;36m__init__\u001b[0;34m(self, batch)\u001b[0m\n\u001b[1;32m    547\u001b[0m         \u001b[0;31m# Don't delay the application, to avoid keeping the input\u001b[0m\u001b[0;34m\u001b[0m\u001b[0;34m\u001b[0m\u001b[0;34m\u001b[0m\u001b[0m\n\u001b[1;32m    548\u001b[0m         \u001b[0;31m# arguments in memory\u001b[0m\u001b[0;34m\u001b[0m\u001b[0;34m\u001b[0m\u001b[0;34m\u001b[0m\u001b[0m\n\u001b[0;32m--> 549\u001b[0;31m         \u001b[0mself\u001b[0m\u001b[0;34m.\u001b[0m\u001b[0mresults\u001b[0m \u001b[0;34m=\u001b[0m \u001b[0mbatch\u001b[0m\u001b[0;34m(\u001b[0m\u001b[0;34m)\u001b[0m\u001b[0;34m\u001b[0m\u001b[0;34m\u001b[0m\u001b[0m\n\u001b[0m\u001b[1;32m    550\u001b[0m \u001b[0;34m\u001b[0m\u001b[0m\n\u001b[1;32m    551\u001b[0m     \u001b[0;32mdef\u001b[0m \u001b[0mget\u001b[0m\u001b[0;34m(\u001b[0m\u001b[0mself\u001b[0m\u001b[0;34m)\u001b[0m\u001b[0;34m:\u001b[0m\u001b[0;34m\u001b[0m\u001b[0;34m\u001b[0m\u001b[0m\n",
      "\u001b[0;32m//anaconda3/lib/python3.7/site-packages/sklearn/externals/joblib/parallel.py\u001b[0m in \u001b[0;36m__call__\u001b[0;34m(self)\u001b[0m\n\u001b[1;32m    223\u001b[0m         \u001b[0;32mwith\u001b[0m \u001b[0mparallel_backend\u001b[0m\u001b[0;34m(\u001b[0m\u001b[0mself\u001b[0m\u001b[0;34m.\u001b[0m\u001b[0m_backend\u001b[0m\u001b[0;34m,\u001b[0m \u001b[0mn_jobs\u001b[0m\u001b[0;34m=\u001b[0m\u001b[0mself\u001b[0m\u001b[0;34m.\u001b[0m\u001b[0m_n_jobs\u001b[0m\u001b[0;34m)\u001b[0m\u001b[0;34m:\u001b[0m\u001b[0;34m\u001b[0m\u001b[0;34m\u001b[0m\u001b[0m\n\u001b[1;32m    224\u001b[0m             return [func(*args, **kwargs)\n\u001b[0;32m--> 225\u001b[0;31m                     for func, args, kwargs in self.items]\n\u001b[0m\u001b[1;32m    226\u001b[0m \u001b[0;34m\u001b[0m\u001b[0m\n\u001b[1;32m    227\u001b[0m     \u001b[0;32mdef\u001b[0m \u001b[0m__len__\u001b[0m\u001b[0;34m(\u001b[0m\u001b[0mself\u001b[0m\u001b[0;34m)\u001b[0m\u001b[0;34m:\u001b[0m\u001b[0;34m\u001b[0m\u001b[0;34m\u001b[0m\u001b[0m\n",
      "\u001b[0;32m//anaconda3/lib/python3.7/site-packages/sklearn/externals/joblib/parallel.py\u001b[0m in \u001b[0;36m<listcomp>\u001b[0;34m(.0)\u001b[0m\n\u001b[1;32m    223\u001b[0m         \u001b[0;32mwith\u001b[0m \u001b[0mparallel_backend\u001b[0m\u001b[0;34m(\u001b[0m\u001b[0mself\u001b[0m\u001b[0;34m.\u001b[0m\u001b[0m_backend\u001b[0m\u001b[0;34m,\u001b[0m \u001b[0mn_jobs\u001b[0m\u001b[0;34m=\u001b[0m\u001b[0mself\u001b[0m\u001b[0;34m.\u001b[0m\u001b[0m_n_jobs\u001b[0m\u001b[0;34m)\u001b[0m\u001b[0;34m:\u001b[0m\u001b[0;34m\u001b[0m\u001b[0;34m\u001b[0m\u001b[0m\n\u001b[1;32m    224\u001b[0m             return [func(*args, **kwargs)\n\u001b[0;32m--> 225\u001b[0;31m                     for func, args, kwargs in self.items]\n\u001b[0m\u001b[1;32m    226\u001b[0m \u001b[0;34m\u001b[0m\u001b[0m\n\u001b[1;32m    227\u001b[0m     \u001b[0;32mdef\u001b[0m \u001b[0m__len__\u001b[0m\u001b[0;34m(\u001b[0m\u001b[0mself\u001b[0m\u001b[0;34m)\u001b[0m\u001b[0;34m:\u001b[0m\u001b[0;34m\u001b[0m\u001b[0;34m\u001b[0m\u001b[0m\n",
      "\u001b[0;32m//anaconda3/lib/python3.7/site-packages/sklearn/model_selection/_validation.py\u001b[0m in \u001b[0;36m_fit_and_score\u001b[0;34m(estimator, X, y, scorer, train, test, verbose, parameters, fit_params, return_train_score, return_parameters, return_n_test_samples, return_times, return_estimator, error_score)\u001b[0m\n\u001b[1;32m    526\u001b[0m             \u001b[0mestimator\u001b[0m\u001b[0;34m.\u001b[0m\u001b[0mfit\u001b[0m\u001b[0;34m(\u001b[0m\u001b[0mX_train\u001b[0m\u001b[0;34m,\u001b[0m \u001b[0;34m**\u001b[0m\u001b[0mfit_params\u001b[0m\u001b[0;34m)\u001b[0m\u001b[0;34m\u001b[0m\u001b[0;34m\u001b[0m\u001b[0m\n\u001b[1;32m    527\u001b[0m         \u001b[0;32melse\u001b[0m\u001b[0;34m:\u001b[0m\u001b[0;34m\u001b[0m\u001b[0;34m\u001b[0m\u001b[0m\n\u001b[0;32m--> 528\u001b[0;31m             \u001b[0mestimator\u001b[0m\u001b[0;34m.\u001b[0m\u001b[0mfit\u001b[0m\u001b[0;34m(\u001b[0m\u001b[0mX_train\u001b[0m\u001b[0;34m,\u001b[0m \u001b[0my_train\u001b[0m\u001b[0;34m,\u001b[0m \u001b[0;34m**\u001b[0m\u001b[0mfit_params\u001b[0m\u001b[0;34m)\u001b[0m\u001b[0;34m\u001b[0m\u001b[0;34m\u001b[0m\u001b[0m\n\u001b[0m\u001b[1;32m    529\u001b[0m \u001b[0;34m\u001b[0m\u001b[0m\n\u001b[1;32m    530\u001b[0m     \u001b[0;32mexcept\u001b[0m \u001b[0mException\u001b[0m \u001b[0;32mas\u001b[0m \u001b[0me\u001b[0m\u001b[0;34m:\u001b[0m\u001b[0;34m\u001b[0m\u001b[0;34m\u001b[0m\u001b[0m\n",
      "\u001b[0;32m//anaconda3/lib/python3.7/site-packages/sklearn/ensemble/forest.py\u001b[0m in \u001b[0;36mfit\u001b[0;34m(self, X, y, sample_weight)\u001b[0m\n\u001b[1;32m    274\u001b[0m         \u001b[0mself\u001b[0m\u001b[0;34m.\u001b[0m\u001b[0mn_outputs_\u001b[0m \u001b[0;34m=\u001b[0m \u001b[0my\u001b[0m\u001b[0;34m.\u001b[0m\u001b[0mshape\u001b[0m\u001b[0;34m[\u001b[0m\u001b[0;36m1\u001b[0m\u001b[0;34m]\u001b[0m\u001b[0;34m\u001b[0m\u001b[0;34m\u001b[0m\u001b[0m\n\u001b[1;32m    275\u001b[0m \u001b[0;34m\u001b[0m\u001b[0m\n\u001b[0;32m--> 276\u001b[0;31m         \u001b[0my\u001b[0m\u001b[0;34m,\u001b[0m \u001b[0mexpanded_class_weight\u001b[0m \u001b[0;34m=\u001b[0m \u001b[0mself\u001b[0m\u001b[0;34m.\u001b[0m\u001b[0m_validate_y_class_weight\u001b[0m\u001b[0;34m(\u001b[0m\u001b[0my\u001b[0m\u001b[0;34m)\u001b[0m\u001b[0;34m\u001b[0m\u001b[0;34m\u001b[0m\u001b[0m\n\u001b[0m\u001b[1;32m    277\u001b[0m \u001b[0;34m\u001b[0m\u001b[0m\n\u001b[1;32m    278\u001b[0m         \u001b[0;32mif\u001b[0m \u001b[0mgetattr\u001b[0m\u001b[0;34m(\u001b[0m\u001b[0my\u001b[0m\u001b[0;34m,\u001b[0m \u001b[0;34m\"dtype\"\u001b[0m\u001b[0;34m,\u001b[0m \u001b[0;32mNone\u001b[0m\u001b[0;34m)\u001b[0m \u001b[0;34m!=\u001b[0m \u001b[0mDOUBLE\u001b[0m \u001b[0;32mor\u001b[0m \u001b[0;32mnot\u001b[0m \u001b[0my\u001b[0m\u001b[0;34m.\u001b[0m\u001b[0mflags\u001b[0m\u001b[0;34m.\u001b[0m\u001b[0mcontiguous\u001b[0m\u001b[0;34m:\u001b[0m\u001b[0;34m\u001b[0m\u001b[0;34m\u001b[0m\u001b[0m\n",
      "\u001b[0;32m//anaconda3/lib/python3.7/site-packages/sklearn/ensemble/forest.py\u001b[0m in \u001b[0;36m_validate_y_class_weight\u001b[0;34m(self, y)\u001b[0m\n\u001b[1;32m    517\u001b[0m                     \u001b[0mclass_weight\u001b[0m \u001b[0;34m=\u001b[0m \u001b[0mself\u001b[0m\u001b[0;34m.\u001b[0m\u001b[0mclass_weight\u001b[0m\u001b[0;34m\u001b[0m\u001b[0;34m\u001b[0m\u001b[0m\n\u001b[1;32m    518\u001b[0m                 expanded_class_weight = compute_sample_weight(class_weight,\n\u001b[0;32m--> 519\u001b[0;31m                                                               y_original)\n\u001b[0m\u001b[1;32m    520\u001b[0m \u001b[0;34m\u001b[0m\u001b[0m\n\u001b[1;32m    521\u001b[0m         \u001b[0;32mreturn\u001b[0m \u001b[0my\u001b[0m\u001b[0;34m,\u001b[0m \u001b[0mexpanded_class_weight\u001b[0m\u001b[0;34m\u001b[0m\u001b[0;34m\u001b[0m\u001b[0m\n",
      "\u001b[0;32m//anaconda3/lib/python3.7/site-packages/sklearn/utils/class_weight.py\u001b[0m in \u001b[0;36mcompute_sample_weight\u001b[0;34m(class_weight, y, indices)\u001b[0m\n\u001b[1;32m    162\u001b[0m             weight_k = compute_class_weight(class_weight_k,\n\u001b[1;32m    163\u001b[0m                                             \u001b[0mclasses_full\u001b[0m\u001b[0;34m,\u001b[0m\u001b[0;34m\u001b[0m\u001b[0;34m\u001b[0m\u001b[0m\n\u001b[0;32m--> 164\u001b[0;31m                                             y_full)\n\u001b[0m\u001b[1;32m    165\u001b[0m \u001b[0;34m\u001b[0m\u001b[0m\n\u001b[1;32m    166\u001b[0m         \u001b[0mweight_k\u001b[0m \u001b[0;34m=\u001b[0m \u001b[0mweight_k\u001b[0m\u001b[0;34m[\u001b[0m\u001b[0mnp\u001b[0m\u001b[0;34m.\u001b[0m\u001b[0msearchsorted\u001b[0m\u001b[0;34m(\u001b[0m\u001b[0mclasses_full\u001b[0m\u001b[0;34m,\u001b[0m \u001b[0my_full\u001b[0m\u001b[0;34m)\u001b[0m\u001b[0;34m]\u001b[0m\u001b[0;34m\u001b[0m\u001b[0;34m\u001b[0m\u001b[0m\n",
      "\u001b[0;32m//anaconda3/lib/python3.7/site-packages/sklearn/utils/class_weight.py\u001b[0m in \u001b[0;36mcompute_class_weight\u001b[0;34m(class_weight, classes, y)\u001b[0m\n\u001b[1;32m     64\u001b[0m             \u001b[0mi\u001b[0m \u001b[0;34m=\u001b[0m \u001b[0mnp\u001b[0m\u001b[0;34m.\u001b[0m\u001b[0msearchsorted\u001b[0m\u001b[0;34m(\u001b[0m\u001b[0mclasses\u001b[0m\u001b[0;34m,\u001b[0m \u001b[0mc\u001b[0m\u001b[0;34m)\u001b[0m\u001b[0;34m\u001b[0m\u001b[0;34m\u001b[0m\u001b[0m\n\u001b[1;32m     65\u001b[0m             \u001b[0;32mif\u001b[0m \u001b[0mi\u001b[0m \u001b[0;34m>=\u001b[0m \u001b[0mlen\u001b[0m\u001b[0;34m(\u001b[0m\u001b[0mclasses\u001b[0m\u001b[0;34m)\u001b[0m \u001b[0;32mor\u001b[0m \u001b[0mclasses\u001b[0m\u001b[0;34m[\u001b[0m\u001b[0mi\u001b[0m\u001b[0;34m]\u001b[0m \u001b[0;34m!=\u001b[0m \u001b[0mc\u001b[0m\u001b[0;34m:\u001b[0m\u001b[0;34m\u001b[0m\u001b[0;34m\u001b[0m\u001b[0m\n\u001b[0;32m---> 66\u001b[0;31m                 \u001b[0;32mraise\u001b[0m \u001b[0mValueError\u001b[0m\u001b[0;34m(\u001b[0m\u001b[0;34m\"Class label {} not present.\"\u001b[0m\u001b[0;34m.\u001b[0m\u001b[0mformat\u001b[0m\u001b[0;34m(\u001b[0m\u001b[0mc\u001b[0m\u001b[0;34m)\u001b[0m\u001b[0;34m)\u001b[0m\u001b[0;34m\u001b[0m\u001b[0;34m\u001b[0m\u001b[0m\n\u001b[0m\u001b[1;32m     67\u001b[0m             \u001b[0;32melse\u001b[0m\u001b[0;34m:\u001b[0m\u001b[0;34m\u001b[0m\u001b[0;34m\u001b[0m\u001b[0m\n\u001b[1;32m     68\u001b[0m                 \u001b[0mweight\u001b[0m\u001b[0;34m[\u001b[0m\u001b[0mi\u001b[0m\u001b[0;34m]\u001b[0m \u001b[0;34m=\u001b[0m \u001b[0mclass_weight\u001b[0m\u001b[0;34m[\u001b[0m\u001b[0mc\u001b[0m\u001b[0;34m]\u001b[0m\u001b[0;34m\u001b[0m\u001b[0;34m\u001b[0m\u001b[0m\n",
      "\u001b[0;31mValueError\u001b[0m: Class label 1 not present."
     ]
    }
   ],
   "source": [
    "# Grid Search \n",
    "parameters = {'n_estimators': [100, 150],\n",
    "             'max_depth': [10, 20, 30],\n",
    "             'class_weight': [[{0:1, 1:75}]*y_train.shape[1], [{0:1, 1:85}]*y_train.shape[1]]}\n",
    "\n",
    "rfc = RandomForestClassifier(random_state=100)\n",
    "clf = GridSearchCV(rfc, parameters, scoring=make_scorer(f1_score, greater_is_better=True))\n",
    "clf.fit(X_train, y_train)"
   ]
  },
  {
   "cell_type": "code",
   "execution_count": null,
   "metadata": {},
   "outputs": [],
   "source": [
    "print('# Tuning hyper-parameter for f1')\n",
    "print()\n",
    "print('Best parameters set found on validation set:')\n",
    "print(clf.best_params_)\n",
    "print()\n",
    "print('Grid scores on validation set: ')\n",
    "means = clf.cv_results_['mean_test_socre']\n",
    "stds = clf.cv_results_['std_test_score']\n",
    "for mean, std, params in zip(means, stds, clf.cv_results_['params']):\n",
    "    print(\"{} ({}) for {}\".format(mean, std*2, params))"
   ]
  },
  {
   "cell_type": "code",
   "execution_count": 112,
   "metadata": {},
   "outputs": [
    {
     "name": "stdout",
     "output_type": "stream",
     "text": [
      "Precision: \n",
      "1.0\n",
      "Recall: \n",
      "0.009222759390107848\n",
      "F1: \n",
      "0.018276954823494736\n"
     ]
    }
   ],
   "source": [
    "y_train_predict = clf.predict(X_train_norm)\n",
    "\n",
    "# print('Accuracy: ')\n",
    "# print(accuracy_score(y_train, y_train_predict))\n",
    "print('Precision: ')\n",
    "print(precision_score(y_train, y_train_predict))\n",
    "print('Recall: ')\n",
    "print(recall_score(y_train, y_train_predict))\n",
    "print('F1: ')\n",
    "print(f1_score(y_train, y_train_predict))"
   ]
  },
  {
   "cell_type": "code",
   "execution_count": 113,
   "metadata": {},
   "outputs": [
    {
     "name": "stdout",
     "output_type": "stream",
     "text": [
      "Precision: \n",
      "1.0\n",
      "Recall: \n",
      "0.003531489111241907\n",
      "F1: \n",
      "0.007038123167155425\n"
     ]
    }
   ],
   "source": [
    "y_test_predict = clf.predict(X_test_norm)\n",
    "\n",
    "# print('Accuracy: ')\n",
    "# print(accuracy_score(y_test, y_test_predict))\n",
    "print('Precision: ')\n",
    "print(precision_score(y_test, y_test_predict))\n",
    "print('Recall: ')\n",
    "print(recall_score(y_test, y_test_predict))\n",
    "print('F1: ')\n",
    "print(f1_score(y_test, y_test_predict))"
   ]
  },
  {
   "cell_type": "code",
   "execution_count": 114,
   "metadata": {},
   "outputs": [
    {
     "name": "stdout",
     "output_type": "stream",
     "text": [
      "13445\n",
      "124.0\n"
     ]
    }
   ],
   "source": [
    "print(y_train.sum().sum())\n",
    "print(y_train_predict.sum())"
   ]
  },
  {
   "cell_type": "code",
   "execution_count": 115,
   "metadata": {},
   "outputs": [
    {
     "name": "stdout",
     "output_type": "stream",
     "text": [
      "3398\n",
      "12.0\n"
     ]
    }
   ],
   "source": [
    "print(y_test.sum().sum())\n",
    "print(y_test_predict.sum())"
   ]
  },
  {
   "cell_type": "markdown",
   "metadata": {},
   "source": [
    "### Model 3 : Classifier Chains (Random Forest)"
   ]
  },
  {
   "cell_type": "code",
   "execution_count": null,
   "metadata": {},
   "outputs": [],
   "source": []
  },
  {
   "cell_type": "code",
   "execution_count": null,
   "metadata": {},
   "outputs": [],
   "source": []
  },
  {
   "cell_type": "code",
   "execution_count": null,
   "metadata": {},
   "outputs": [],
   "source": []
  },
  {
   "cell_type": "code",
   "execution_count": null,
   "metadata": {},
   "outputs": [],
   "source": []
  },
  {
   "cell_type": "code",
   "execution_count": null,
   "metadata": {},
   "outputs": [],
   "source": []
  },
  {
   "cell_type": "code",
   "execution_count": null,
   "metadata": {},
   "outputs": [],
   "source": []
  },
  {
   "cell_type": "code",
   "execution_count": null,
   "metadata": {},
   "outputs": [],
   "source": []
  }
 ],
 "metadata": {
  "kernelspec": {
   "display_name": "Python 3",
   "language": "python",
   "name": "python3"
  },
  "language_info": {
   "codemirror_mode": {
    "name": "ipython",
    "version": 3
   },
   "file_extension": ".py",
   "mimetype": "text/x-python",
   "name": "python",
   "nbconvert_exporter": "python",
   "pygments_lexer": "ipython3",
   "version": "3.7.3"
  }
 },
 "nbformat": 4,
 "nbformat_minor": 4
}
