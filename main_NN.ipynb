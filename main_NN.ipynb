{
 "cells": [
  {
   "cell_type": "code",
   "execution_count": 4,
   "metadata": {},
   "outputs": [
    {
     "name": "stdout",
     "output_type": "stream",
     "text": [
      "The autoreload extension is already loaded. To reload it, use:\n",
      "  %reload_ext autoreload\n"
     ]
    },
    {
     "data": {
      "text/plain": [
       "<torch._C.Generator at 0x1a1c8ffed0>"
      ]
     },
     "execution_count": 4,
     "metadata": {},
     "output_type": "execute_result"
    }
   ],
   "source": [
    "import pandas as pd\n",
    "import numpy as np\n",
    "import matplotlib.pyplot as plt\n",
    "%matplotlib inline\n",
    "from sklearn.preprocessing import StandardScaler\n",
    "from sklearn.metrics import log_loss\n",
    "\n",
    "import torch\n",
    "import torch.nn as nn\n",
    "import torch.nn.functional as F\n",
    "import torch.optim as optim\n",
    "\n",
    "from moa.model import DenseNet, Model, DenseBlock\n",
    "\n",
    "from tqdm import tqdm\n",
    "import warnings\n",
    "warnings.filterwarnings('ignore')\n",
    "\n",
    "%load_ext autoreload\n",
    "%autoreload 2\n",
    "\n",
    "data_dir = './DATA/lish-moa/'\n",
    "SEED = 123\n",
    "np.random.seed(SEED)\n",
    "torch.manual_seed(SEED)"
   ]
  },
  {
   "cell_type": "markdown",
   "metadata": {},
   "source": [
    "## Load data set"
   ]
  },
  {
   "cell_type": "code",
   "execution_count": 3,
   "metadata": {},
   "outputs": [],
   "source": [
    "X = pd.read_csv(data_dir+'train_features.csv', index_col='sig_id')\n",
    "y = pd.read_csv(data_dir+'train_targets_scored.csv', index_col='sig_id')"
   ]
  },
  {
   "cell_type": "markdown",
   "metadata": {},
   "source": [
    "## Preprocess"
   ]
  },
  {
   "cell_type": "code",
   "execution_count": 5,
   "metadata": {},
   "outputs": [],
   "source": [
    "# One-hot encoding for cp_type and cp_dose\n",
    "X['cp_type'].replace({'trt_cp':1., 'ctl_vehicle':0.}, inplace=True)\n",
    "X['cp_dose'].replace({'D1':1., 'D2':0.}, inplace=True)\n",
    "\n",
    "# split into training set and test set\n",
    "ids = X.index.values.copy()\n",
    "np.random.shuffle(ids)\n",
    "\n",
    "train_perc, test_perc = 0.9, 0.1\n",
    "train_id = ids[:round(len(ids)*train_perc)]\n",
    "test_id = ids[round(len(ids)*train_perc):]\n",
    "\n",
    "X_train = X.loc[train_id]\n",
    "X_test = X.loc[test_id]\n",
    "\n",
    "y_train = y.loc[train_id]\n",
    "y_test = y.loc[test_id]\n",
    "\n",
    "# normalize the data\n",
    "scaler = StandardScaler()\n",
    "X_train_norm = pd.DataFrame(scaler.fit_transform(X_train))\n",
    "X_train_norm.columns = X_train.columns\n",
    "X_train_norm.index = X_train.index\n",
    "\n",
    "X_test_norm = pd.DataFrame(scaler.transform(X_test))\n",
    "X_test_norm.columns = X_test.columns\n",
    "X_test_norm.index = X_test.index"
   ]
  },
  {
   "cell_type": "markdown",
   "metadata": {},
   "source": [
    "## Model"
   ]
  },
  {
   "cell_type": "code",
   "execution_count": 6,
   "metadata": {},
   "outputs": [
    {
     "name": "stdout",
     "output_type": "stream",
     "text": [
      "Epoch [1, 40] : train loss 0.7370374202728271\n",
      "Epoch [1, 80] : train loss 0.720777153968811\n",
      "Epoch [1, 120] : train loss 0.6966890096664429\n",
      "Validation loss decreased (inf --> 0.669574).  Saving model ...\n",
      "Epoch [2, 40] : train loss 0.6039992570877075\n",
      "Epoch [2, 80] : train loss 0.5151388645172119\n",
      "Epoch [2, 120] : train loss 0.4230225086212158\n",
      "Validation loss decreased (0.669574 --> 0.367610).  Saving model ...\n",
      "Epoch [3, 40] : train loss 0.2922835648059845\n",
      "Epoch [3, 80] : train loss 0.23362737894058228\n",
      "Epoch [3, 120] : train loss 0.19158142805099487\n",
      "Validation loss decreased (0.367610 --> 0.169029).  Saving model ...\n",
      "Epoch [4, 40] : train loss 0.14352665841579437\n",
      "Epoch [4, 80] : train loss 0.12439484894275665\n",
      "Epoch [4, 120] : train loss 0.11366760730743408\n",
      "Validation loss decreased (0.169029 --> 0.104262).  Saving model ...\n",
      "Epoch [5, 40] : train loss 0.09532388299703598\n",
      "Epoch [5, 80] : train loss 0.08794067054986954\n",
      "Epoch [5, 120] : train loss 0.08441205322742462\n",
      "Validation loss decreased (0.104262 --> 0.080059).  Saving model ...\n",
      "Epoch [6, 40] : train loss 0.07581602036952972\n",
      "Epoch [6, 80] : train loss 0.0725952684879303\n",
      "Epoch [6, 120] : train loss 0.07083423435688019\n",
      "Validation loss decreased (0.080059 --> 0.068376).  Saving model ...\n",
      "Epoch [7, 40] : train loss 0.06571244448423386\n",
      "Epoch [7, 80] : train loss 0.06415866315364838\n",
      "Epoch [7, 120] : train loss 0.06270358711481094\n",
      "Validation loss decreased (0.068376 --> 0.061616).  Saving model ...\n",
      "Epoch [8, 40] : train loss 0.05966635048389435\n",
      "Epoch [8, 80] : train loss 0.058613941073417664\n",
      "Epoch [8, 120] : train loss 0.057686999440193176\n",
      "Validation loss decreased (0.061616 --> 0.057025).  Saving model ...\n",
      "Epoch [9, 40] : train loss 0.05509020760655403\n",
      "Epoch [9, 80] : train loss 0.054534099996089935\n",
      "Epoch [9, 120] : train loss 0.053998060524463654\n",
      "Validation loss decreased (0.057025 --> 0.053698).  Saving model ...\n",
      "Epoch [10, 40] : train loss 0.05130286514759064\n",
      "Epoch [10, 80] : train loss 0.0512879341840744\n",
      "Epoch [10, 120] : train loss 0.051290061324834824\n",
      "Validation loss decreased (0.053698 --> 0.051278).  Saving model ...\n",
      "Epoch [11, 40] : train loss 0.04871919006109238\n",
      "Epoch [11, 80] : train loss 0.04865580052137375\n",
      "Epoch [11, 120] : train loss 0.04865267872810364\n",
      "Validation loss decreased (0.051278 --> 0.049110).  Saving model ...\n",
      "Epoch [12, 40] : train loss 0.04623643308877945\n",
      "Epoch [12, 80] : train loss 0.04661058634519577\n",
      "Epoch [12, 120] : train loss 0.04627753049135208\n",
      "Validation loss decreased (0.049110 --> 0.047623).  Saving model ...\n",
      "Epoch [13, 40] : train loss 0.04470199719071388\n",
      "Epoch [13, 80] : train loss 0.04482462257146835\n",
      "Epoch [13, 120] : train loss 0.044760704040527344\n",
      "Validation loss decreased (0.047623 --> 0.046623).  Saving model ...\n",
      "Epoch [14, 40] : train loss 0.04295369237661362\n",
      "Epoch [14, 80] : train loss 0.04341980814933777\n",
      "Epoch [14, 120] : train loss 0.04246105998754501\n",
      "Validation loss decreased (0.046623 --> 0.045493).  Saving model ...\n",
      "Epoch [15, 40] : train loss 0.04165566340088844\n",
      "Epoch [15, 80] : train loss 0.04182009398937225\n",
      "Epoch [15, 120] : train loss 0.041584912687540054\n",
      "Validation loss decreased (0.045493 --> 0.044679).  Saving model ...\n",
      "Epoch [16, 40] : train loss 0.03958737850189209\n",
      "Epoch [16, 80] : train loss 0.04032173007726669\n",
      "Epoch [16, 120] : train loss 0.03964544087648392\n",
      "Validation loss decreased (0.044679 --> 0.044105).  Saving model ...\n",
      "Epoch [17, 40] : train loss 0.03802986070513725\n",
      "Epoch [17, 80] : train loss 0.038697924464941025\n",
      "Epoch [17, 120] : train loss 0.03835944086313248\n",
      "Validation loss decreased (0.044105 --> 0.043554).  Saving model ...\n",
      "Epoch [18, 40] : train loss 0.038338739424943924\n",
      "Epoch [18, 80] : train loss 0.03840937837958336\n",
      "Epoch [18, 120] : train loss 0.03745553269982338\n",
      "EarlyStopping counter: 1 out of 5\n",
      "Epoch [19, 40] : train loss 0.03597308695316315\n",
      "Epoch [19, 80] : train loss 0.03658799082040787\n",
      "Epoch [19, 120] : train loss 0.03644590824842453\n",
      "Validation loss decreased (0.043554 --> 0.042849).  Saving model ...\n",
      "Epoch [20, 40] : train loss 0.0352877601981163\n",
      "Epoch [20, 80] : train loss 0.03494802489876747\n",
      "Epoch [20, 120] : train loss 0.034190136939287186\n",
      "Validation loss decreased (0.042849 --> 0.042529).  Saving model ...\n"
     ]
    }
   ],
   "source": [
    "SEED = 123\n",
    "np.random.seed(SEED)\n",
    "torch.manual_seed(SEED)\n",
    "\n",
    "params_net = {'input_size': X_train_norm.shape[1],\n",
    "             'hidden_size': [1024, 512, 1024],\n",
    "             'output_size': y_train.shape[1],\n",
    "             'dropout': 0.01}\n",
    "\n",
    "params_fit = {'X':X_train_norm,\n",
    "             'y': y_train,\n",
    "             'epoch': 20,\n",
    "             'lr': 1e-4,\n",
    "             'batch_size':128,\n",
    "             'L1': 1e-6,\n",
    "             'L2': 1e-6,\n",
    "             'pos_weight':1,\n",
    "             'patience':5,\n",
    "             'verbose':True}\n",
    "\n",
    "net = DenseNet(**params_net)\n",
    "model = Model(net)\n",
    "model.fit(**params_fit)"
   ]
  },
  {
   "cell_type": "code",
   "execution_count": 7,
   "metadata": {},
   "outputs": [],
   "source": [
    "y_train_pred = model.predict_proba(X_train_norm)\n",
    "y_test_pred = model.predict_proba(X_test_norm)"
   ]
  },
  {
   "cell_type": "code",
   "execution_count": 8,
   "metadata": {},
   "outputs": [
    {
     "data": {
      "text/plain": [
       "0.009937683484609957"
      ]
     },
     "execution_count": 8,
     "metadata": {},
     "output_type": "execute_result"
    }
   ],
   "source": [
    "log_loss(y_train.values.ravel(), y_train_pred.ravel())"
   ]
  },
  {
   "cell_type": "code",
   "execution_count": 9,
   "metadata": {
    "scrolled": true
   },
   "outputs": [
    {
     "data": {
      "text/plain": [
       "0.017457496457342073"
      ]
     },
     "execution_count": 9,
     "metadata": {},
     "output_type": "execute_result"
    }
   ],
   "source": [
    "log_loss(y_test.values.reshape(-1), y_test_pred.reshape(-1))"
   ]
  },
  {
   "cell_type": "code",
   "execution_count": null,
   "metadata": {},
   "outputs": [],
   "source": []
  },
  {
   "cell_type": "code",
   "execution_count": null,
   "metadata": {},
   "outputs": [],
   "source": []
  },
  {
   "cell_type": "code",
   "execution_count": null,
   "metadata": {},
   "outputs": [],
   "source": []
  }
 ],
 "metadata": {
  "kernelspec": {
   "display_name": "Python 3",
   "language": "python",
   "name": "python3"
  },
  "language_info": {
   "codemirror_mode": {
    "name": "ipython",
    "version": 3
   },
   "file_extension": ".py",
   "mimetype": "text/x-python",
   "name": "python",
   "nbconvert_exporter": "python",
   "pygments_lexer": "ipython3",
   "version": "3.7.3"
  }
 },
 "nbformat": 4,
 "nbformat_minor": 4
}
