{
 "cells": [
  {
   "cell_type": "code",
   "execution_count": 14,
   "metadata": {},
   "outputs": [
    {
     "name": "stdout",
     "output_type": "stream",
     "text": [
      "The autoreload extension is already loaded. To reload it, use:\n",
      "  %reload_ext autoreload\n"
     ]
    },
    {
     "data": {
      "text/plain": [
       "<torch._C.Generator at 0x1a24fec5b0>"
      ]
     },
     "execution_count": 14,
     "metadata": {},
     "output_type": "execute_result"
    }
   ],
   "source": [
    "import pandas as pd\n",
    "import numpy as np\n",
    "import matplotlib.pyplot as plt\n",
    "%matplotlib inline\n",
    "from sklearn.preprocessing import StandardScaler\n",
    "\n",
    "import torch\n",
    "import torch.nn as nn\n",
    "import torch.nn.functional as F\n",
    "import torch.optim as optim\n",
    "\n",
    "from model import DenseNet, Model, DenseBlock\n",
    "\n",
    "from tqdm import tqdm\n",
    "import warnings\n",
    "warnings.filterwarnings('ignore')\n",
    "\n",
    "%load_ext autoreload\n",
    "%autoreload 2\n",
    "\n",
    "data_dir = './DATA/lish-moa/'\n",
    "SEED = 123\n",
    "np.random.seed(SEED)\n",
    "torch.manual_seed(SEED)"
   ]
  },
  {
   "cell_type": "markdown",
   "metadata": {},
   "source": [
    "## Load data set"
   ]
  },
  {
   "cell_type": "code",
   "execution_count": 15,
   "metadata": {},
   "outputs": [],
   "source": [
    "X = pd.read_csv(data_dir+'train_features.csv', index_col='sig_id')\n",
    "y = pd.read_csv(data_dir+'train_targets_scored.csv', index_col='sig_id')"
   ]
  },
  {
   "cell_type": "markdown",
   "metadata": {},
   "source": [
    "## Preprocess"
   ]
  },
  {
   "cell_type": "code",
   "execution_count": 16,
   "metadata": {},
   "outputs": [],
   "source": [
    "# One-hot encoding for cp_type and cp_dose\n",
    "X['cp_type'].replace({'trt_cp':1., 'ctl_vehicle':0.}, inplace=True)\n",
    "X['cp_dose'].replace({'D1':1., 'D2':0.}, inplace=True)\n",
    "\n",
    "# split into training set and test set\n",
    "ids = X.index.values.copy()\n",
    "np.random.shuffle(ids)\n",
    "\n",
    "train_perc, test_perc = 0.8, 0.2\n",
    "train_id = ids[:round(len(ids)*train_perc)]\n",
    "test_id = ids[round(len(ids)*train_perc):]\n",
    "\n",
    "X_train = X.loc[train_id]\n",
    "X_test = X.loc[test_id]\n",
    "\n",
    "y_train = y.loc[train_id]\n",
    "y_test = y.loc[test_id]\n",
    "\n",
    "# normalize the data\n",
    "scaler = StandardScaler()\n",
    "X_train_norm = pd.DataFrame(scaler.fit_transform(X_train))\n",
    "X_train_norm.columns = X_train.columns\n",
    "X_train_norm.index = X_train.index\n",
    "\n",
    "X_test_norm = pd.DataFrame(scaler.transform(X_test))\n",
    "X_test_norm.columns = X_test.columns\n",
    "X_test_norm.index = X_test.index"
   ]
  },
  {
   "cell_type": "markdown",
   "metadata": {},
   "source": [
    "## Model"
   ]
  },
  {
   "cell_type": "code",
   "execution_count": 17,
   "metadata": {},
   "outputs": [
    {
     "name": "stdout",
     "output_type": "stream",
     "text": [
      "Epoch [1, 0] : loss 1.0131256580352783\n",
      "Epoch [1, 3840] : loss 0.9746132493019104\n",
      "Epoch [1, 7680] : loss 0.8820200562477112\n",
      "Epoch [1, 11520] : loss 0.8355883955955505\n",
      "Epoch [1, 15360] : loss 0.8230900764465332\n",
      "Epoch [2, 0] : loss 0.8132508993148804\n",
      "Epoch [2, 3840] : loss 0.799078643321991\n",
      "Epoch [2, 7680] : loss 0.7966324687004089\n",
      "Epoch [2, 11520] : loss 0.7878764867782593\n",
      "Epoch [2, 15360] : loss 0.778723955154419\n",
      "Epoch [3, 0] : loss 0.7944122552871704\n",
      "Epoch [3, 3840] : loss 0.7877381443977356\n",
      "Epoch [3, 7680] : loss 0.7827826738357544\n",
      "Epoch [3, 11520] : loss 0.7662061452865601\n",
      "Epoch [3, 15360] : loss 0.7677496075630188\n",
      "Epoch [4, 0] : loss 0.767212450504303\n",
      "Epoch [4, 3840] : loss 0.7721747756004333\n",
      "Epoch [4, 7680] : loss 0.7701340913772583\n",
      "Epoch [4, 11520] : loss 0.7616013884544373\n",
      "Epoch [4, 15360] : loss 0.7590694427490234\n",
      "Epoch [5, 0] : loss 0.7623365521430969\n",
      "Epoch [5, 3840] : loss 0.763582706451416\n",
      "Epoch [5, 7680] : loss 0.7567314505577087\n",
      "Epoch [5, 11520] : loss 0.7538787126541138\n",
      "Epoch [5, 15360] : loss 0.7500711679458618\n"
     ]
    }
   ],
   "source": [
    "params_net = {'input_size': X_train_norm.shape[1],\n",
    "             'hidden_size': [1024, 512, 1024],\n",
    "             'output_size': y_train.shape[1],\n",
    "             'dropout': 0.01}\n",
    "\n",
    "params_fit = {'X':X_train_norm,\n",
    "             'y': y_train,\n",
    "             'epoch': 5,\n",
    "             'lr': 1e-4,\n",
    "             'batch_size':128,\n",
    "             'L1': 1e-6,\n",
    "             'L2': 1e-6,\n",
    "             'pos_weight':1,\n",
    "             'verbose':True}\n",
    "\n",
    "net = DenseNet(**params_net)\n",
    "model = Model(net)\n",
    "model.fit(**params_fit)"
   ]
  },
  {
   "cell_type": "code",
   "execution_count": null,
   "metadata": {},
   "outputs": [],
   "source": [
    "y_train_pred = model.predict_proba(X_train_norm)\n",
    "y_test_pred = model.predict_proba(X_test_norm)"
   ]
  },
  {
   "cell_type": "code",
   "execution_count": null,
   "metadata": {},
   "outputs": [],
   "source": []
  },
  {
   "cell_type": "code",
   "execution_count": null,
   "metadata": {},
   "outputs": [],
   "source": []
  },
  {
   "cell_type": "code",
   "execution_count": null,
   "metadata": {},
   "outputs": [],
   "source": []
  },
  {
   "cell_type": "code",
   "execution_count": null,
   "metadata": {},
   "outputs": [],
   "source": []
  },
  {
   "cell_type": "code",
   "execution_count": 10,
   "metadata": {},
   "outputs": [],
   "source": [
    "net = DenseBlock(3, 2, 0.02, activate=F.relu)"
   ]
  },
  {
   "cell_type": "code",
   "execution_count": 12,
   "metadata": {},
   "outputs": [
    {
     "data": {
      "text/plain": [
       "tensor([[0.1841, 0.7264, 0.3153],\n",
       "        [0.6871, 0.0756, 0.1966],\n",
       "        [0.3164, 0.4017, 0.1186],\n",
       "        [0.8274, 0.3821, 0.6605],\n",
       "        [0.8536, 0.5932, 0.6367]])"
      ]
     },
     "execution_count": 12,
     "metadata": {},
     "output_type": "execute_result"
    }
   ],
   "source": [
    "a = torch.rand(5, 3)\n",
    "a"
   ]
  },
  {
   "cell_type": "code",
   "execution_count": 13,
   "metadata": {},
   "outputs": [
    {
     "data": {
      "text/plain": [
       "tensor([[0.0318, 0.0000],\n",
       "        [0.0000, 0.0795],\n",
       "        [0.1438, 0.0000],\n",
       "        [0.0000, 0.0000],\n",
       "        [0.0000, 0.0000]], grad_fn=<ReluBackward0>)"
      ]
     },
     "execution_count": 13,
     "metadata": {},
     "output_type": "execute_result"
    }
   ],
   "source": [
    "net(a)"
   ]
  },
  {
   "cell_type": "code",
   "execution_count": 3,
   "metadata": {},
   "outputs": [
    {
     "name": "stdout",
     "output_type": "stream",
     "text": [
      "Parameter containing:\n",
      "tensor([[-0.2354,  0.0191, -0.2867],\n",
      "        [ 0.2177, -0.4919,  0.4232]], requires_grad=True)\n",
      "Parameter containing:\n",
      "tensor([-0.4196, -0.4590], requires_grad=True)\n"
     ]
    }
   ],
   "source": [
    "for a in net.linear.parameters():\n",
    "    print(a)"
   ]
  },
  {
   "cell_type": "code",
   "execution_count": 14,
   "metadata": {},
   "outputs": [
    {
     "data": {
      "text/plain": [
       "tensor([-0.4545, -0.4456, -0.5394,  0.2368,  0.1636, -0.5732, -0.2033, -0.5588],\n",
       "       grad_fn=<CatBackward>)"
      ]
     },
     "execution_count": 14,
     "metadata": {},
     "output_type": "execute_result"
    }
   ],
   "source": [
    "torch.cat([x.view(-1) for x in net.linear.parameters()])"
   ]
  },
  {
   "cell_type": "code",
   "execution_count": 5,
   "metadata": {},
   "outputs": [
    {
     "data": {
      "text/plain": [
       "tensor([-0.2354,  0.0191, -0.2867,  0.2177, -0.4919,  0.4232],\n",
       "       grad_fn=<ViewBackward>)"
      ]
     },
     "execution_count": 5,
     "metadata": {},
     "output_type": "execute_result"
    }
   ],
   "source": [
    "list(net.linear.parameters())[0].view(-1)"
   ]
  },
  {
   "cell_type": "code",
   "execution_count": 6,
   "metadata": {},
   "outputs": [],
   "source": [
    "a = torch.tensor([])\n",
    "a = torch.cat([a, list(net.linear.parameters())[0].view(-1)])"
   ]
  },
  {
   "cell_type": "code",
   "execution_count": 7,
   "metadata": {},
   "outputs": [
    {
     "data": {
      "text/plain": [
       "tensor([-0.2354,  0.0191, -0.2867,  0.2177, -0.4919,  0.4232],\n",
       "       grad_fn=<CatBackward>)"
      ]
     },
     "execution_count": 7,
     "metadata": {},
     "output_type": "execute_result"
    }
   ],
   "source": [
    "a"
   ]
  },
  {
   "cell_type": "code",
   "execution_count": 8,
   "metadata": {},
   "outputs": [
    {
     "data": {
      "text/plain": [
       "tensor([-0.2354,  0.0191, -0.2867,  0.2177, -0.4919,  0.4232, -0.2354,  0.0191,\n",
       "        -0.2867,  0.2177, -0.4919,  0.4232], grad_fn=<CatBackward>)"
      ]
     },
     "execution_count": 8,
     "metadata": {},
     "output_type": "execute_result"
    }
   ],
   "source": [
    "b = torch.cat([a, list(net.linear.parameters())[0].view(-1)])\n",
    "b"
   ]
  },
  {
   "cell_type": "code",
   "execution_count": 23,
   "metadata": {},
   "outputs": [
    {
     "data": {
      "text/plain": [
       "tensor(38.3275, grad_fn=<AddBackward0>)"
      ]
     },
     "execution_count": 23,
     "metadata": {},
     "output_type": "execute_result"
    }
   ],
   "source": [
    "net2 = DenseNet(**params_net)\n",
    "net2.regular_loss(0.001, 0.001)"
   ]
  },
  {
   "cell_type": "code",
   "execution_count": null,
   "metadata": {},
   "outputs": [],
   "source": []
  }
 ],
 "metadata": {
  "kernelspec": {
   "display_name": "Python 3",
   "language": "python",
   "name": "python3"
  },
  "language_info": {
   "codemirror_mode": {
    "name": "ipython",
    "version": 3
   },
   "file_extension": ".py",
   "mimetype": "text/x-python",
   "name": "python",
   "nbconvert_exporter": "python",
   "pygments_lexer": "ipython3",
   "version": "3.7.3"
  }
 },
 "nbformat": 4,
 "nbformat_minor": 4
}
