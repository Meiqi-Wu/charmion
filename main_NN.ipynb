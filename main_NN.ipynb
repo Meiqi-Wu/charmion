{
 "cells": [
  {
   "cell_type": "code",
   "execution_count": 72,
   "metadata": {},
   "outputs": [
    {
     "name": "stdout",
     "output_type": "stream",
     "text": [
      "The autoreload extension is already loaded. To reload it, use:\n",
      "  %reload_ext autoreload\n"
     ]
    },
    {
     "data": {
      "text/plain": [
       "<torch._C.Generator at 0x1a18651ed0>"
      ]
     },
     "execution_count": 72,
     "metadata": {},
     "output_type": "execute_result"
    }
   ],
   "source": [
    "import pandas as pd\n",
    "import numpy as np\n",
    "import matplotlib.pyplot as plt\n",
    "%matplotlib inline\n",
    "from sklearn.preprocessing import StandardScaler\n",
    "from sklearn.metrics import log_loss\n",
    "\n",
    "import torch\n",
    "import torch.nn as nn\n",
    "import torch.nn.functional as F\n",
    "import torch.optim as optim\n",
    "\n",
    "from model import DenseNet, Model, DenseBlock\n",
    "\n",
    "from tqdm import tqdm\n",
    "import warnings\n",
    "warnings.filterwarnings('ignore')\n",
    "\n",
    "%load_ext autoreload\n",
    "%autoreload 2\n",
    "\n",
    "data_dir = './DATA/lish-moa/'\n",
    "SEED = 123\n",
    "np.random.seed(SEED)\n",
    "torch.manual_seed(SEED)"
   ]
  },
  {
   "cell_type": "markdown",
   "metadata": {},
   "source": [
    "## Load data set"
   ]
  },
  {
   "cell_type": "code",
   "execution_count": 2,
   "metadata": {},
   "outputs": [],
   "source": [
    "X = pd.read_csv(data_dir+'train_features.csv', index_col='sig_id')\n",
    "y = pd.read_csv(data_dir+'train_targets_scored.csv', index_col='sig_id')"
   ]
  },
  {
   "cell_type": "markdown",
   "metadata": {},
   "source": [
    "## Preprocess"
   ]
  },
  {
   "cell_type": "code",
   "execution_count": 3,
   "metadata": {},
   "outputs": [],
   "source": [
    "# One-hot encoding for cp_type and cp_dose\n",
    "X['cp_type'].replace({'trt_cp':1., 'ctl_vehicle':0.}, inplace=True)\n",
    "X['cp_dose'].replace({'D1':1., 'D2':0.}, inplace=True)\n",
    "\n",
    "# split into training set and test set\n",
    "ids = X.index.values.copy()\n",
    "np.random.shuffle(ids)\n",
    "\n",
    "train_perc, test_perc = 0.8, 0.2\n",
    "train_id = ids[:round(len(ids)*train_perc)]\n",
    "test_id = ids[round(len(ids)*train_perc):]\n",
    "\n",
    "X_train = X.loc[train_id]\n",
    "X_test = X.loc[test_id]\n",
    "\n",
    "y_train = y.loc[train_id]\n",
    "y_test = y.loc[test_id]\n",
    "\n",
    "# normalize the data\n",
    "scaler = StandardScaler()\n",
    "X_train_norm = pd.DataFrame(scaler.fit_transform(X_train))\n",
    "X_train_norm.columns = X_train.columns\n",
    "X_train_norm.index = X_train.index\n",
    "\n",
    "X_test_norm = pd.DataFrame(scaler.transform(X_test))\n",
    "X_test_norm.columns = X_test.columns\n",
    "X_test_norm.index = X_test.index"
   ]
  },
  {
   "cell_type": "markdown",
   "metadata": {},
   "source": [
    "## Model"
   ]
  },
  {
   "cell_type": "code",
   "execution_count": 77,
   "metadata": {},
   "outputs": [
    {
     "name": "stdout",
     "output_type": "stream",
     "text": [
      "Epoch [1, 40] : train loss 0.7375186085700989\n",
      "Epoch [1, 80] : train loss 0.7211422324180603\n",
      "Epoch [1, 120] : train loss 0.7071765065193176\n",
      "Validation loss decreased (inf --> 0.694555).  Saving model ...\n",
      "Epoch [2, 40] : train loss 0.6456931233406067\n",
      "Epoch [2, 80] : train loss 0.5681542754173279\n",
      "Epoch [2, 120] : train loss 0.4924986958503723\n",
      "Validation loss decreased (0.694555 --> 0.472542).  Saving model ...\n",
      "Epoch [3, 40] : train loss 0.38259458541870117\n",
      "Epoch [3, 80] : train loss 0.3031151294708252\n",
      "Epoch [3, 120] : train loss 0.314527302980423\n",
      "Validation loss decreased (0.472542 --> 0.239500).  Saving model ...\n",
      "Epoch [4, 40] : train loss 0.19574302434921265\n",
      "Epoch [4, 80] : train loss 0.16365689039230347\n",
      "Epoch [4, 120] : train loss 0.24516178667545319\n",
      "Validation loss decreased (0.239500 --> 0.138780).  Saving model ...\n",
      "Epoch [5, 40] : train loss 0.12216386198997498\n",
      "Epoch [5, 80] : train loss 0.11015237867832184\n",
      "Epoch [5, 120] : train loss 0.24052701890468597\n",
      "Validation loss decreased (0.138780 --> 0.100724).  Saving model ...\n",
      "Epoch [6, 40] : train loss 0.09263762831687927\n",
      "Epoch [6, 80] : train loss 0.088136687874794\n",
      "Epoch [6, 120] : train loss 0.23807476460933685\n",
      "Validation loss decreased (0.100724 --> 0.083277).  Saving model ...\n",
      "Epoch [7, 40] : train loss 0.07944144308567047\n",
      "Epoch [7, 80] : train loss 0.07717575132846832\n",
      "Epoch [7, 120] : train loss 0.1518714725971222\n",
      "Validation loss decreased (0.083277 --> 0.073530).  Saving model ...\n",
      "Epoch [8, 40] : train loss 0.07137764990329742\n",
      "Epoch [8, 80] : train loss 0.07101541757583618\n",
      "Epoch [8, 120] : train loss 0.1068727970123291\n",
      "Validation loss decreased (0.073530 --> 0.068181).  Saving model ...\n",
      "Epoch [9, 40] : train loss 0.06690957397222519\n",
      "Epoch [9, 80] : train loss 0.06712828576564789\n",
      "Epoch [9, 120] : train loss 0.10116255283355713\n",
      "Validation loss decreased (0.068181 --> 0.064711).  Saving model ...\n",
      "Epoch [10, 40] : train loss 0.06372670829296112\n",
      "Epoch [10, 80] : train loss 0.06432100385427475\n",
      "Epoch [10, 120] : train loss 0.09129385650157928\n",
      "Validation loss decreased (0.064711 --> 0.062151).  Saving model ...\n",
      "Epoch [11, 40] : train loss 0.06129784509539604\n",
      "Epoch [11, 80] : train loss 0.06226672977209091\n",
      "Epoch [11, 120] : train loss 0.08707372844219208\n",
      "Validation loss decreased (0.062151 --> 0.060077).  Saving model ...\n",
      "Epoch [12, 40] : train loss 0.059314124286174774\n",
      "Epoch [12, 80] : train loss 0.06036817282438278\n",
      "Epoch [12, 120] : train loss 0.08192623406648636\n",
      "Validation loss decreased (0.060077 --> 0.058321).  Saving model ...\n",
      "Epoch [13, 40] : train loss 0.05743458867073059\n",
      "Epoch [13, 80] : train loss 0.058778636157512665\n",
      "Epoch [13, 120] : train loss 0.07742612063884735\n",
      "Validation loss decreased (0.058321 --> 0.056787).  Saving model ...\n",
      "Epoch [14, 40] : train loss 0.055917248129844666\n",
      "Epoch [14, 80] : train loss 0.056931279599666595\n",
      "Epoch [14, 120] : train loss 0.07413333654403687\n",
      "Validation loss decreased (0.056787 --> 0.055460).  Saving model ...\n",
      "Epoch [15, 40] : train loss 0.054333679378032684\n",
      "Epoch [15, 80] : train loss 0.05532320961356163\n",
      "Epoch [15, 120] : train loss 0.07027538865804672\n",
      "Validation loss decreased (0.055460 --> 0.054208).  Saving model ...\n",
      "Epoch [16, 40] : train loss 0.05298050493001938\n",
      "Epoch [16, 80] : train loss 0.05372181162238121\n",
      "Epoch [16, 120] : train loss 0.06721386313438416\n",
      "Validation loss decreased (0.054208 --> 0.053126).  Saving model ...\n",
      "Epoch [17, 40] : train loss 0.05177682638168335\n",
      "Epoch [17, 80] : train loss 0.05230512097477913\n",
      "Epoch [17, 120] : train loss 0.06570874899625778\n",
      "Validation loss decreased (0.053126 --> 0.052209).  Saving model ...\n",
      "Epoch [18, 40] : train loss 0.050498656928539276\n",
      "Epoch [18, 80] : train loss 0.05070212483406067\n",
      "Epoch [18, 120] : train loss 0.06477227061986923\n",
      "Validation loss decreased (0.052209 --> 0.051278).  Saving model ...\n",
      "Epoch [19, 40] : train loss 0.049149639904499054\n",
      "Epoch [19, 80] : train loss 0.04920468479394913\n",
      "Epoch [19, 120] : train loss 0.05675755441188812\n",
      "Validation loss decreased (0.051278 --> 0.050521).  Saving model ...\n",
      "Epoch [20, 40] : train loss 0.04780247062444687\n",
      "Epoch [20, 80] : train loss 0.04792945086956024\n",
      "Epoch [20, 120] : train loss 0.05372605472803116\n",
      "Validation loss decreased (0.050521 --> 0.049755).  Saving model ...\n"
     ]
    }
   ],
   "source": [
    "params_net = {'input_size': X_train_norm.shape[1],\n",
    "             'hidden_size': [1024, 512, 1024],\n",
    "             'output_size': y_train.shape[1],\n",
    "             'dropout': 0.01}\n",
    "\n",
    "params_fit = {'X':X_train_norm,\n",
    "             'y': y_train,\n",
    "             'epoch': 20,\n",
    "             'lr': 1e-4,\n",
    "             'batch_size':128,\n",
    "             'L1': 1e-6,\n",
    "             'L2': 1e-6,\n",
    "             'pos_weight':1,\n",
    "             'patience':5,\n",
    "             'verbose':True}\n",
    "\n",
    "net = DenseNet(**params_net)\n",
    "model = Model(net)\n",
    "model.fit(**params_fit)"
   ]
  },
  {
   "cell_type": "code",
   "execution_count": 78,
   "metadata": {},
   "outputs": [],
   "source": [
    "y_train_pred = model.predict_proba(X_train_norm)\n",
    "y_test_pred = model.predict_proba(X_test_norm)"
   ]
  },
  {
   "cell_type": "code",
   "execution_count": 81,
   "metadata": {},
   "outputs": [
    {
     "data": {
      "text/plain": [
       "0.01459356458010416"
      ]
     },
     "execution_count": 81,
     "metadata": {},
     "output_type": "execute_result"
    }
   ],
   "source": [
    "log_loss(y_train.values.ravel(), y_train_pred.ravel())"
   ]
  },
  {
   "cell_type": "code",
   "execution_count": 79,
   "metadata": {
    "scrolled": true
   },
   "outputs": [
    {
     "data": {
      "text/plain": [
       "0.017312805752537835"
      ]
     },
     "execution_count": 79,
     "metadata": {},
     "output_type": "execute_result"
    }
   ],
   "source": [
    "log_loss(y_test.values.reshape(-1), y_test_pred.reshape(-1))"
   ]
  },
  {
   "cell_type": "code",
   "execution_count": null,
   "metadata": {},
   "outputs": [],
   "source": []
  },
  {
   "cell_type": "code",
   "execution_count": null,
   "metadata": {},
   "outputs": [],
   "source": []
  },
  {
   "cell_type": "code",
   "execution_count": null,
   "metadata": {},
   "outputs": [],
   "source": []
  }
 ],
 "metadata": {
  "kernelspec": {
   "display_name": "Python 3",
   "language": "python",
   "name": "python3"
  },
  "language_info": {
   "codemirror_mode": {
    "name": "ipython",
    "version": 3
   },
   "file_extension": ".py",
   "mimetype": "text/x-python",
   "name": "python",
   "nbconvert_exporter": "python",
   "pygments_lexer": "ipython3",
   "version": "3.7.3"
  }
 },
 "nbformat": 4,
 "nbformat_minor": 4
}
