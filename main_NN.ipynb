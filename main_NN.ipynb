{
 "cells": [
  {
   "cell_type": "code",
   "execution_count": 9,
   "metadata": {},
   "outputs": [
    {
     "name": "stdout",
     "output_type": "stream",
     "text": [
      "The autoreload extension is already loaded. To reload it, use:\n",
      "  %reload_ext autoreload\n"
     ]
    },
    {
     "data": {
      "text/plain": [
       "<torch._C.Generator at 0x1a24b17c50>"
      ]
     },
     "execution_count": 9,
     "metadata": {},
     "output_type": "execute_result"
    }
   ],
   "source": [
    "import pandas as pd\n",
    "import numpy as np\n",
    "import matplotlib.pyplot as plt\n",
    "%matplotlib inline\n",
    "from sklearn.preprocessing import StandardScaler\n",
    "\n",
    "import torch\n",
    "import torch.nn as nn\n",
    "import torch.nn.functional as F\n",
    "import torch.optim as optim\n",
    "\n",
    "from model import DenseNet, Model\n",
    "\n",
    "from tqdm import tqdm\n",
    "import warnings\n",
    "warnings.filterwarnings('ignore')\n",
    "\n",
    "%load_ext autoreload\n",
    "%autoreload 2\n",
    "\n",
    "data_dir = './DATA/lish-moa/'\n",
    "SEED = 123\n",
    "np.random.seed(SEED)\n",
    "torch.manual_seed(SEED)"
   ]
  },
  {
   "cell_type": "code",
   "execution_count": 3,
   "metadata": {},
   "outputs": [],
   "source": [
    "X = pd.read_csv(data_dir+'train_features.csv', index_col='sig_id')\n",
    "y = pd.read_csv(data_dir+'train_targets_scored.csv', index_col='sig_id')"
   ]
  },
  {
   "cell_type": "code",
   "execution_count": 5,
   "metadata": {},
   "outputs": [],
   "source": [
    "# One-hot encoding for cp_type and cp_dose\n",
    "X['cp_type'].replace({'trt_cp':1., 'ctl_vehicle':0.}, inplace=True)\n",
    "X['cp_dose'].replace({'D1':1., 'D2':0.}, inplace=True)\n",
    "\n",
    "# split into training set and test set\n",
    "ids = X.index.values.copy()\n",
    "np.random.shuffle(ids)\n",
    "\n",
    "train_perc, test_perc = 0.8, 0.2\n",
    "train_id = ids[:round(len(ids)*train_perc)]\n",
    "val_id = ids[round(len(ids)*train_perc):round(len(ids)*(train_perc+val_perc))]\n",
    "test_id = ids[round(len(ids)*(train_perc+val_perc)):]\n",
    "\n",
    "X_train = X.loc[train_id]\n",
    "X_val = X.loc[val_id]\n",
    "X_test = X.loc[test_id]\n",
    "\n",
    "y_train = y.loc[train_id]\n",
    "y_val = y.loc[val_id]\n",
    "y_test = y.loc[test_id]\n",
    "\n",
    "# normalize the data\n",
    "scaler = StandardScaler()\n",
    "X_train_norm = pd.DataFrame(scaler.fit_transform(X_train))\n",
    "X_train_norm.columns = X_train.columns\n",
    "X_train_norm.index = X_train.index\n",
    "\n",
    "X_val_norm = pd.DataFrame(scaler.transform(X_val))\n",
    "X_val_norm.columns = X_val.columns\n",
    "X_val_norm.index = X_val.index\n",
    "\n",
    "X_test_norm = pd.DataFrame(scaler.transform(X_test))\n",
    "X_test_norm.columns = X_test.columns\n",
    "X_test_norm.index = X_test.index"
   ]
  },
  {
   "cell_type": "code",
   "execution_count": 10,
   "metadata": {},
   "outputs": [
    {
     "name": "stdout",
     "output_type": "stream",
     "text": [
      "Epoch [1, 0] : loss 0.7340331673622131\n",
      "Epoch [1, 3840] : loss 0.718819260597229\n",
      "Epoch [1, 7680] : loss 0.7089676856994629\n",
      "Epoch [1, 11520] : loss 0.7009713649749756\n",
      "Epoch [1, 15360] : loss 0.6952911615371704\n",
      "Epoch [2, 0] : loss 0.6936304569244385\n",
      "Epoch [2, 3840] : loss 0.689566969871521\n",
      "Epoch [2, 7680] : loss 0.6867527365684509\n",
      "Epoch [2, 11520] : loss 0.6844825148582458\n",
      "Epoch [2, 15360] : loss 0.6827470064163208\n",
      "Epoch [3, 0] : loss 0.6820682883262634\n",
      "Epoch [3, 3840] : loss 0.6810248494148254\n",
      "Epoch [3, 7680] : loss 0.6797767281532288\n",
      "Epoch [3, 11520] : loss 0.6788884401321411\n",
      "Epoch [3, 15360] : loss 0.6780291795730591\n",
      "Epoch [4, 0] : loss 0.6775532960891724\n",
      "Epoch [4, 3840] : loss 0.6772419214248657\n",
      "Epoch [4, 7680] : loss 0.6762481927871704\n",
      "Epoch [4, 11520] : loss 0.6756942272186279\n",
      "Epoch [4, 15360] : loss 0.6751059889793396\n",
      "Epoch [5, 0] : loss 0.6745458245277405\n",
      "Epoch [5, 3840] : loss 0.6746001839637756\n",
      "Epoch [5, 7680] : loss 0.6736698150634766\n",
      "Epoch [5, 11520] : loss 0.6733357906341553\n",
      "Epoch [5, 15360] : loss 0.6728894114494324\n"
     ]
    }
   ],
   "source": [
    "params_net = {'input_size': X_train_norm.shape[1],\n",
    "             'hidden_size': [512, 512, 256, 128 ,256, 512, 1024],\n",
    "             'output_size': y_train.shape[1],\n",
    "             'dropout': 0.01}\n",
    "\n",
    "params_fit = {'X':X_train_norm,\n",
    "             'y': y_train,\n",
    "             'epoch': 5,\n",
    "             'lr': 1e-4,\n",
    "             'batch_size':128,\n",
    "             'L2': 0.05,\n",
    "             'verbose':True}\n",
    "\n",
    "net = DenseNet(**params_net)\n",
    "model = Model(net)\n",
    "model.fit(**params_fit)"
   ]
  },
  {
   "cell_type": "code",
   "execution_count": null,
   "metadata": {},
   "outputs": [],
   "source": [
    "y_train_pred = model.predict_proba(X_train_norm)\n",
    "y_test_pred = model.predict_proba(X_test_norm)"
   ]
  }
 ],
 "metadata": {
  "kernelspec": {
   "display_name": "Python 3",
   "language": "python",
   "name": "python3"
  },
  "language_info": {
   "codemirror_mode": {
    "name": "ipython",
    "version": 3
   },
   "file_extension": ".py",
   "mimetype": "text/x-python",
   "name": "python",
   "nbconvert_exporter": "python",
   "pygments_lexer": "ipython3",
   "version": "3.7.3"
  }
 },
 "nbformat": 4,
 "nbformat_minor": 4
}
