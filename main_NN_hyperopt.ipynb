{
 "cells": [
  {
   "cell_type": "code",
   "execution_count": null,
   "metadata": {},
   "outputs": [],
   "source": [
    "import pandas as pd\n",
    "import numpy as np\n",
    "import matplotlib.pyplot as plt\n",
    "%matplotlib inline\n",
    "import torch \n",
    "from sklearn.metrics import log_loss\n",
    "from sklearn.model_selection import KFold\n",
    "from hyperopt import hp, fmin, tpe, Trials\n",
    "from collections import OrderedDict\n",
    "import csv\n",
    "import joblib\n",
    "import os\n",
    "\n",
    "from moa.model import DenseNet, Model, DenseBlock\n",
    "from moa.preprocess import cp_mapping, cp_filter, scaling, rankgauss, fe_stats, c_squared, fe_pca, variance_thresh\n",
    "\n",
    "from tqdm import tqdm\n",
    "import warnings\n",
    "warnings.filterwarnings('ignore')\n",
    "\n",
    "%load_ext autoreload\n",
    "%autoreload 2\n",
    "\n",
    "data_dir = './DATA/lish-moa/'\n",
    "SEED = 123\n",
    "np.random.seed(SEED)"
   ]
  },
  {
   "cell_type": "markdown",
   "metadata": {},
   "source": [
    "## Load the dataset "
   ]
  },
  {
   "cell_type": "code",
   "execution_count": null,
   "metadata": {},
   "outputs": [],
   "source": [
    "X = pd.read_csv(data_dir+'train_features.csv', index_col='sig_id')\n",
    "y = pd.read_csv(data_dir+'train_targets_scored.csv', index_col='sig_id')\n",
    "X_sub = pd.read_csv(data_dir+'test_features.csv', index_col='sig_id')"
   ]
  },
  {
   "cell_type": "markdown",
   "metadata": {},
   "source": [
    "## Preprocessing"
   ]
  },
  {
   "cell_type": "code",
   "execution_count": null,
   "metadata": {},
   "outputs": [],
   "source": [
    "# # 1. preprocessing\n",
    "# X1, X1_sub = cp_mapping(X, X_sub); y1=y.copy()\n",
    "# X1, X1_sub = rankgauss(X1, X1_sub)\n",
    "# X1, X1_sub = fe_pca(X1, X1_sub, n_components_g = 600, n_components_c = 80, SEED = 42)\n",
    "# X1, X1_sub = variance_thresh(X1, X1_sub, 0.8, 3)\n",
    "# X1, y1, X1_sub = cp_filter(X1, y1, X1_sub)\n",
    "# X1.shape"
   ]
  },
  {
   "cell_type": "code",
   "execution_count": null,
   "metadata": {},
   "outputs": [],
   "source": [
    "# 2. preprocessing\n",
    "X1, X1_sub = cp_mapping(X, X_sub); y1=y.copy()\n",
    "X1, y1, X1_sub = cp_filter(X1, y1, X1_sub)\n",
    "X1, X1_sub = fe_stats(X1, X1_sub)\n",
    "X1, X1_sub = c_squared(X1, X1_sub)\n",
    "X1, X1_sub = scaling(X1, X1_sub)\n",
    "X1, X1_sub = fe_pca(X1, X1_sub, n_components_g = 70, n_components_c = 10, SEED = 233)\n",
    "X1, X1_sub = variance_thresh(X1, X1_sub, 0.8, 2)\n",
    "X1.shape"
   ]
  },
  {
   "cell_type": "markdown",
   "metadata": {},
   "source": [
    "## Training"
   ]
  },
  {
   "cell_type": "code",
   "execution_count": null,
   "metadata": {},
   "outputs": [],
   "source": [
    "n_SEED = 2\n",
    "n_fold = 5\n",
    "torch.manual_seed(42)\n",
    "def objective(params):\n",
    "    epoch, lr, batch_size, L1, L2 = int(params['epoch']), params['lr'],int(params['batch_size']),params['L1'],params['L2']\n",
    "    train_loss = []\n",
    "    test_loss = []\n",
    "    for i_SEED in range(n_SEED):\n",
    "        SEED = 65 + 123*i_SEED\n",
    "        kfold = KFold(n_splits=n_fold, shuffle=True, random_state=SEED)\n",
    "        for n, (train_idx, test_idx) in enumerate(kfold.split(X1)):\n",
    "            X_train = X1.iloc[train_idx].values\n",
    "            X_test = X1.iloc[test_idx].values\n",
    "            y_train = y1.iloc[train_idx].values\n",
    "            y_test = y1.iloc[test_idx].values\n",
    "            \n",
    "            params_net = {'input_size': X1.shape[1],\n",
    "                     'hidden_size': hidden_size, # \n",
    "                     'output_size': y1.shape[1],\n",
    "                     'dropout': dropout} # 长度比hidden_size长度多1\n",
    "            params_fit = {'X':X_train,\n",
    "                         'y': y_train,\n",
    "                         'epoch': epoch,\n",
    "                         'lr': lr, \n",
    "                         'batch_size':batch_size, # 64, 128\n",
    "                         'L1': L1,\n",
    "                         'L2': L2,\n",
    "                         'pos_weight':1,\n",
    "                         'patience':5,\n",
    "                         'verbose':False}\n",
    "            net = DenseNet(**params_net)\n",
    "            model = Model(net)\n",
    "            model.fit(**params_fit)\n",
    "            y_train_pred = model.predict_proba(X_train)\n",
    "            y_test_pred = model.predict_proba(X_test)\n",
    "            train_loss.append(log_loss(y_train.ravel(), y_train_pred.ravel()))\n",
    "            test_loss.append(log_loss(y_test.ravel(), y_test_pred.ravel()))\n",
    "            print(f\"SEED {i_SEED+1}/{n_SEED}, KFOLD {n+1}/{n_fold} completed.\")\n",
    "    train_loss_avg = np.average(np.array(train_loss))\n",
    "    test_loss_avg = np.average(np.array(test_loss))\n",
    "    print('Training loss : ', train_loss_avg)\n",
    "    print('Validation loss : ', test_loss_avg)\n",
    "    writer.writerow([epoch, lr, batch_size, L1, L2, train_loss_avg, test_loss_avg])\n",
    "    return test_loss_avg"
   ]
  },
  {
   "cell_type": "code",
   "execution_count": null,
   "metadata": {},
   "outputs": [],
   "source": [
    "# hidden_size = [2048, 2048]\n",
    "# dropout = [0, 0.35, 0.2]\n",
    "\n",
    "# params = {'epoch': 125,\n",
    "#           'lr': 0.0005302154778849957, # 1e-4 ~ 1e-3\n",
    "#           'batch_size':85, # 64, 128, 256, 512\n",
    "#           'L1': 1e-5,\n",
    "#           'L2': 5e-5\n",
    "# }\n",
    "# filename = 'Manual.csv'\n",
    "# if not os.path.exists(filename):\n",
    "#     with open(filename, 'w') as file:\n",
    "#         writer = csv.writer(file)\n",
    "#         writer.writerow(['NN hyperparamerter tuning'])\n",
    "#         writer.writerow(['hidden_size', 'dropout'])\n",
    "#         writer.writerow(['epoch', 'lr', 'batch_size', 'L1', 'L2', 'Train_loss', 'Val_loss'])\n",
    "\n",
    "# with open(filename, 'a') as file:\n",
    "#     writer = csv.writer(file)\n",
    "#     writer.writerow([hidden_size, dropout])\n",
    "#     objective(params);"
   ]
  },
  {
   "cell_type": "markdown",
   "metadata": {},
   "source": [
    "## Automatic hyper parameter tuning"
   ]
  },
  {
   "cell_type": "code",
   "execution_count": null,
   "metadata": {},
   "outputs": [],
   "source": [
    "hidden_size = [2048, 2048]\n",
    "dropout = [0.0, 0.3, 0.2]\n",
    "\n",
    "search_space=OrderedDict([\n",
    "    ('epoch', hp.choice('epoch', [125])),\n",
    "    ('lr', hp.loguniform('lr', np.log(1e-4), np.log(1e-3))),\n",
    "    ('batch_size', hp.uniform('batch_size', 32, 128)),\n",
    "    ('L1', hp.uniform('L1', 1e-5, 8e-5)),\n",
    "    ('L2', hp.uniform('L2', 1e-5, 8e-5))\n",
    "])\n",
    "\n",
    "filename = 'Trails.csv'\n",
    "if not os.path.exists(filename):\n",
    "    with open(filename, 'w') as file:\n",
    "        writer = csv.writer(file)\n",
    "        writer.writerow(['NN hyperparamerter tuning'])\n",
    "        \n",
    "with open(filename, 'a') as file:\n",
    "    writer = csv.writer(file)\n",
    "    writer.writerow([])\n",
    "    writer.writerow(['hidden_size', 'dropout'])\n",
    "    writer.writerow([hidden_size, dropout])\n",
    "    writer.writerow(['epoch', 'lr', 'batch_size', 'L1', 'L2','Train_loss', 'Val_loss'])\n",
    "\n",
    "for i in range(40):\n",
    "    with open(filename, 'a') as file:\n",
    "        writer = csv.writer(file)\n",
    "        #         trials = Trials() \n",
    "        trials = joblib.load('hyperopt_trials.pkl')\n",
    "        _ = fmin(objective, search_space, trials=trials, algo=tpe.suggest, max_evals=len(trials.trials)+1)\n",
    "        joblib.dump(trials, 'hyperopt_trials.pkl')"
   ]
  },
  {
   "cell_type": "code",
   "execution_count": null,
   "metadata": {},
   "outputs": [],
   "source": []
  }
 ],
 "metadata": {
  "kernelspec": {
   "display_name": "Python 3",
   "language": "python",
   "name": "python3"
  },
  "language_info": {
   "codemirror_mode": {
    "name": "ipython",
    "version": 3
   },
   "file_extension": ".py",
   "mimetype": "text/x-python",
   "name": "python",
   "nbconvert_exporter": "python",
   "pygments_lexer": "ipython3",
   "version": "3.7.3"
  }
 },
 "nbformat": 4,
 "nbformat_minor": 4
}
