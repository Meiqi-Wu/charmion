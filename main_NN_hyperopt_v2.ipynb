{
 "cells": [
  {
   "cell_type": "code",
   "execution_count": 31,
   "metadata": {},
   "outputs": [
    {
     "name": "stdout",
     "output_type": "stream",
     "text": [
      "The autoreload extension is already loaded. To reload it, use:\n",
      "  %reload_ext autoreload\n"
     ]
    }
   ],
   "source": [
    "import pandas as pd\n",
    "import numpy as np\n",
    "import os\n",
    "import csv\n",
    "import matplotlib.pyplot as plt\n",
    "%matplotlib inline\n",
    "import torch \n",
    "from sklearn.metrics import log_loss\n",
    "\n",
    "from moa.model import DenseNet, Model, DenseBlock\n",
    "from moa.preprocess import cp_mapping, cp_filter, fe_pca, fe_stats_all,variance_thresh_all\n",
    "from iterstrat.ml_stratifiers import MultilabelStratifiedKFold\n",
    "from rank_gauss.gauss_rank_scaler import GaussRankScaler\n",
    "\n",
    "from tqdm import tqdm\n",
    "import warnings\n",
    "warnings.filterwarnings('ignore')\n",
    "\n",
    "%load_ext autoreload\n",
    "%autoreload 2\n",
    "\n",
    "data_dir = './DATA/lish-moa/'\n",
    "SEED = 123\n",
    "np.random.seed(SEED)"
   ]
  },
  {
   "cell_type": "markdown",
   "metadata": {},
   "source": [
    "## Load the dataset"
   ]
  },
  {
   "cell_type": "code",
   "execution_count": 4,
   "metadata": {},
   "outputs": [],
   "source": [
    "X = pd.read_csv(data_dir+'train_features.csv', index_col='sig_id')\n",
    "y = pd.read_csv(data_dir+'train_targets_scored.csv', index_col='sig_id')\n",
    "X_sub = pd.read_csv(data_dir+'test_features.csv', index_col='sig_id')"
   ]
  },
  {
   "cell_type": "markdown",
   "metadata": {},
   "source": [
    "## Preprocessing"
   ]
  },
  {
   "cell_type": "code",
   "execution_count": 9,
   "metadata": {},
   "outputs": [
    {
     "name": "stdout",
     "output_type": "stream",
     "text": [
      "(25572, 839)\n",
      "(25572, 839)\n"
     ]
    },
    {
     "name": "stderr",
     "output_type": "stream",
     "text": [
      "100%|██████████| 5/5 [00:08<00:00,  1.71s/it]\n"
     ]
    },
    {
     "name": "stdout",
     "output_type": "stream",
     "text": [
      "(25572, 944)\n",
      "(21948, 944)\n",
      "(3624, 944)\n"
     ]
    }
   ],
   "source": [
    "train, test = cp_mapping(X, X_sub); targets=y.copy()\n",
    "train, targets, test = cp_filter(train, targets, test)\n",
    "\n",
    "data_all = variance_thresh_all(pd.concat([train, test]), 0.7)\n",
    "print(data_all.shape)\n",
    "\n",
    "scaler = GaussRankScaler()\n",
    "data_all.iloc[:,2:] = scaler.fit_transform(data_all.iloc[:,2:])\n",
    "print(data_all.shape)\n",
    "\n",
    "train, test = data_all[:len(targets)], data_all[len(targets):]\n",
    "train, test = fe_pca(train, test, n_components_g = 80, n_components_c = 10)\n",
    "data_all = fe_stats_all(pd.concat([train, test]))\n",
    "print(data_all.shape)\n",
    "\n",
    "train, test = data_all[:len(targets)], data_all[len(targets):]\n",
    "print(train.shape)\n",
    "print(test.shape)"
   ]
  },
  {
   "cell_type": "markdown",
   "metadata": {},
   "source": [
    "## Training"
   ]
  },
  {
   "cell_type": "code",
   "execution_count": 19,
   "metadata": {},
   "outputs": [],
   "source": [
    "n_SEED = 5 # 5\n",
    "n_fold = 7 # 7\n",
    "torch.manual_seed(42)\n",
    "def objective(params):\n",
    "    dropout, epoch, lr, batch_size, wd = params['dropout'], int(params['epoch']), params['lr'],int(params['batch_size']),params['weight_decay']\n",
    "    val_loss = []\n",
    "    for i_SEED in range(n_SEED):\n",
    "        SEED = 65 + 123*i_SEED\n",
    "        kfold = MultilabelStratifiedKFold(n_splits=n_fold, shuffle=True, random_state=SEED)\n",
    "        for n, (train_idx, val_idx) in enumerate(kfold.split(train, targets)):\n",
    "            X_train, X_val = train.iloc[train_idx].values, train.iloc[val_idx].values\n",
    "            y_train, y_val = targets.iloc[train_idx].values, targets.iloc[val_idx].values\n",
    "            train_loss = []\n",
    "            val_loss = []\n",
    "            params_net = {'input_size': train.shape[1],\n",
    "                     'hidden_size': hidden_size, \n",
    "                     'output_size': targets.shape[1],\n",
    "                     'dropout': dropout} \n",
    "            params_fit = {'X_train':X_train,'y_train': y_train,\n",
    "                          'X_val':X_val,'y_val': y_val,\n",
    "                          'epoch': epoch,\n",
    "                          'lr': lr, \n",
    "                          'batch_size':batch_size, #\n",
    "                          'weight_decay':wd,\n",
    "                          'patience':10,\n",
    "                          'smoothing':0.001,\n",
    "                          'p_min': 0.001,\n",
    "                          'scheduler': 'OneCycleLR', # ['OneCycleLR', 'ReduceLROnPlateau', 'both']\n",
    "                          'verbose':True}\n",
    "            net = DenseNet(**params_net)\n",
    "            model = Model(net)\n",
    "            model.fit(**params_fit)\n",
    "            y_train_pred = model.predict_proba(X_train)\n",
    "            y_val_pred = model.predict_proba(X_val)\n",
    "            train_loss.append(log_loss(y_train.ravel(), y_train_pred.ravel()))\n",
    "            val_loss.append(log_loss(y_val.ravel(), y_val_pred.ravel()))\n",
    "            \n",
    "#             y_sub_pred_list.append(model.predict_proba(test))\n",
    "            \n",
    "            print(f\"SEED {i_SEED+1}/{n_SEED}, KFOLD {n+1}/{n_fold} completed.\")\n",
    "    train_loss_avg = np.average(np.array(train_loss))\n",
    "    val_loss_avg = np.average(np.array(val_loss))\n",
    "    print('Training loss : ', train_loss_avg)\n",
    "    print('Validation loss : ', val_loss_avg)\n",
    "    writer.writerow([dropout, epoch, lr, batch_size, wd, train_loss_avg, val_loss_avg])\n",
    "    return val_loss_avg"
   ]
  },
  {
   "cell_type": "code",
   "execution_count": null,
   "metadata": {},
   "outputs": [],
   "source": [
    "hidden_size = [1024, 1024]\n",
    "# dropout = [0.2, 0.2, 0.2]\n",
    "\n",
    "params = {'dropout':0.2,\n",
    "          'epoch': 20,\n",
    "          'lr': 0.001, \n",
    "          'batch_size':128, \n",
    "          'weight_decay':1e-5\n",
    "}\n",
    "\n",
    "filename = 'Manual.csv'\n",
    "if not os.path.exists(filename):\n",
    "    with open(filename, 'w') as file:\n",
    "        writer = csv.writer(file)\n",
    "        writer.writerow(['hidden_size', 'dropout'])\n",
    "        writer.writerow(['dropout', 'epoch', 'lr', 'batch_size', 'weight_decay', 'Train_loss', 'Val_loss'])\n",
    "\n",
    "global y_sub_pred_list\n",
    "y_sub_pred_list = []\n",
    "with open(filename, 'a') as file:\n",
    "    writer = csv.writer(file)\n",
    "    writer.writerow([hidden_size, dropout])\n",
    "    objective(params);\n",
    "    \n",
    "# # submission \n",
    "# y_sub_pred = np.zeros((test.shape[0], targets.shape[1]))\n",
    "# for tmp in y_sub_pred_list:\n",
    "#     y_sub_pred += tmp\n",
    "# y_sub_pred1 = pd.DataFrame(y_sub_pred/(n_SEED*n_fold), index=test.index, columns=y.columns)\n",
    "# ctr_idx = X_sub[X_sub.cp_type=='ctl_vehicle'].index\n",
    "# y_sub_pred2 = pd.DataFrame(np.zeros((len(ctr_idx), y.shape[1])).astype('float'), index=ctr_idx, columns=y.columns)\n",
    "\n",
    "# y_sub_predfull = pd.concat((y_sub_pred1, y_sub_pred2))\n",
    "# y_sub_predfull.sort_index(inplace=True)\n",
    "# y_sub_predfull.to_csv('submission.csv')"
   ]
  },
  {
   "cell_type": "code",
   "execution_count": null,
   "metadata": {},
   "outputs": [],
   "source": [
    "hidden_size = [1024, 1024]\n",
    "\n",
    "search_space=OrderedDict([\n",
    "    ('dropout', hp.uniform('dropout', 0.05, 0.4)),\n",
    "    ('epoch', hp.choice('epoch', [25])),\n",
    "    ('lr', hp.loguniform('lr', np.log(5e-4), np.log(2e-3))),\n",
    "    ('batch_size', hp.uniform('batch_size', 64, 150)),\n",
    "    ('weight_decay', hp.uniform('weight_decay', 5e-6, 5e-5))\n",
    "])\n",
    "\n",
    "filename = 'Trails.csv'\n",
    "if not os.path.exists(filename):\n",
    "    with open(filename, 'w') as file:\n",
    "        writer = csv.writer(file)\n",
    "        writer.writerow(['NN hyperparamerter tuning'])\n",
    "        \n",
    "with open(filename, 'a') as file:\n",
    "    writer = csv.writer(file)\n",
    "    writer.writerow([])\n",
    "    writer.writerow(['hidden_size'])\n",
    "    writer.writerow([hidden_size])\n",
    "    writer.writerow(['dropout', 'epoch', 'lr', 'batch_size', 'Train_loss', 'Val_loss'])\n",
    "\n",
    "for i in range(40):\n",
    "    with open(filename, 'a') as file:\n",
    "        writer = csv.writer(file)\n",
    "        #         trials = Trials() \n",
    "        trials = joblib.load('hyperopt_trials.pkl')\n",
    "        _ = fmin(objective, search_space, trials=trials, algo=tpe.suggest, max_evals=len(trials.trials)+1)\n",
    "        joblib.dump(trials, 'hyperopt_trials.pkl')"
   ]
  }
 ],
 "metadata": {
  "kernelspec": {
   "display_name": "Python 3",
   "language": "python",
   "name": "python3"
  },
  "language_info": {
   "codemirror_mode": {
    "name": "ipython",
    "version": 3
   },
   "file_extension": ".py",
   "mimetype": "text/x-python",
   "name": "python",
   "nbconvert_exporter": "python",
   "pygments_lexer": "ipython3",
   "version": "3.7.3"
  }
 },
 "nbformat": 4,
 "nbformat_minor": 4
}
